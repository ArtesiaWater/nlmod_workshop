{
 "cells": [
  {
   "cell_type": "markdown",
   "id": "1eb13882",
   "metadata": {},
   "source": [
    "# Layer models"
   ]
  },
  {
   "cell_type": "code",
   "execution_count": null,
   "id": "fe894cf0",
   "metadata": {},
   "outputs": [],
   "source": [
    "import matplotlib.pyplot as plt\n",
    "import nlmod\n",
    "# add a logger with nice coloring\n",
    "logger = nlmod.util.get_color_logger(\"INFO\");"
   ]
  },
  {
   "cell_type": "markdown",
   "id": "e784908a",
   "metadata": {},
   "source": [
    "First we specify the model extent. This extent is specified by 4 numbers: [xmin, xmax, ymin, ymax]. We also specify the coordinates of a line for west to east, along which we are going to plot cross-sections."
   ]
  },
  {
   "cell_type": "code",
   "execution_count": null,
   "id": "bee01d5c",
   "metadata": {},
   "outputs": [],
   "source": [
    "extent = [116_500, 120_000, 439_000, 442_000]\n",
    "line = [(116_500, 440_000), (120_000, 440_000)]"
   ]
  },
  {
   "cell_type": "markdown",
   "id": "32f00c97",
   "metadata": {},
   "source": [
    "First plot a map of this area using nlmod.plot.get_map(). Make sure you plot a background as well, by adding an extra attribute to the get_map method."
   ]
  },
  {
   "cell_type": "code",
   "execution_count": null,
   "id": "e83d3278",
   "metadata": {
    "scrolled": false
   },
   "outputs": [],
   "source": [
    "nlmod.plot.get_map(extent, background=True)"
   ]
  },
  {
   "cell_type": "markdown",
   "id": "23b17392",
   "metadata": {},
   "source": [
    "## REGIS\n",
    "Now we are going to download the subsurface model of REGIS. Use the method `nlmod.read.get_regis()`."
   ]
  },
  {
   "cell_type": "code",
   "execution_count": null,
   "id": "d5da8166",
   "metadata": {},
   "outputs": [],
   "source": [
    "regis = nlmod.read.get_regis(extent)"
   ]
  },
  {
   "cell_type": "markdown",
   "id": "421af06b",
   "metadata": {},
   "source": [
    "Exercise 1: explore the xarray Dataset that this method returns. Look at the dimensions (number of layers, x- and y-coordinates). How many layers are there? What variables are in the Dataset?"
   ]
  },
  {
   "cell_type": "code",
   "execution_count": null,
   "id": "85351655",
   "metadata": {},
   "outputs": [],
   "source": []
  },
  {
   "cell_type": "markdown",
   "id": "6e47d94f",
   "metadata": {},
   "source": [
    "We can plot the vertical condductivity (kv) of layer 'BXk1' (case-sensitive). You can to access the kv-DataArray in the regis-Dataset using `regis['kv']`. More information about accessing xarray-variables can be found in:\n",
    "https://docs.xarray.dev/en/stable/user-guide/indexing.html"
   ]
  },
  {
   "cell_type": "code",
   "execution_count": null,
   "id": "9036ea6a",
   "metadata": {},
   "outputs": [],
   "source": [
    "regis['kv'].sel(layer='WAk1').plot()"
   ]
  },
  {
   "cell_type": "markdown",
   "id": "729e25cb",
   "metadata": {},
   "source": [
    "Exercise 2: plot the horizontal conductivity (kh) of layer 'BXz2'"
   ]
  },
  {
   "cell_type": "code",
   "execution_count": null,
   "id": "6f1cb617",
   "metadata": {},
   "outputs": [],
   "source": []
  },
  {
   "cell_type": "markdown",
   "id": "17e4abe9",
   "metadata": {},
   "source": [
    "We make a cross-section through the subsurface model, along a line with coordinates [(x1, y1), (x2, y2)]. Use the method called nlmod.plot.DatasetCrossSection(), to create an object called 'dcs'. This creates a cross-section-object, with which you can plot varibales along the line. Plot each layer with a unique color using dcs.plot_layers()."
   ]
  },
  {
   "cell_type": "code",
   "execution_count": null,
   "id": "bbfba00a",
   "metadata": {},
   "outputs": [],
   "source": [
    "f, ax = plt.subplots(figsize=(13, 5))\n",
    "dcs = nlmod.plot.DatasetCrossSection(regis, line, zmin=-50.0, ax=ax)\n",
    "dcs.plot_layers();\n",
    "dcs.plot_grid(vertical=False)"
   ]
  },
  {
   "cell_type": "markdown",
   "id": "20cd79be",
   "metadata": {},
   "source": [
    "Exercise 3: improve the cross-section by adding setting the `colors` argument in `dcs.plot_layers()` to `nlmod.read.regis.get_legend()`, and label the layers by specifying the argument `min_label_area` in dcs.plot_layers()."
   ]
  },
  {
   "cell_type": "code",
   "execution_count": null,
   "id": "37f1f69f",
   "metadata": {},
   "outputs": [],
   "source": []
  },
  {
   "cell_type": "markdown",
   "id": "afdd8d5b",
   "metadata": {},
   "source": [
    "## GeoTOP\n",
    "In this section we are going to download GeoTOP-data. More information about GeoTOP, and ways to calculate conductivities from GeoTOP are shown in https://nlmod.readthedocs.io/en/stable/examples/15_geotop.html. Use the method `nlmod.read.geotop.get_geotop_raw_within_extent()` to download GeoTOP-data."
   ]
  },
  {
   "cell_type": "code",
   "execution_count": null,
   "id": "7c566afb",
   "metadata": {},
   "outputs": [],
   "source": [
    "geotop = nlmod.read.geotop.get_geotop_raw_within_extent(extent)\n",
    "geotop"
   ]
  },
  {
   "cell_type": "markdown",
   "id": "03c40c30",
   "metadata": {},
   "source": [
    "Exercise 4: Look at the dimensions and coordinates of the resulting xarray Dataset. What is the horizontal and vertical resoution of the data? What variables are in the data?"
   ]
  },
  {
   "cell_type": "code",
   "execution_count": null,
   "id": "72c60334",
   "metadata": {},
   "outputs": [],
   "source": []
  },
  {
   "cell_type": "markdown",
   "id": "650ec32f",
   "metadata": {},
   "source": [
    "Plot the lithoclass (soil type) in a cross section along the previously specified line using the method `nlmod.plot.geotop_lithok_in_cross_section`."
   ]
  },
  {
   "cell_type": "code",
   "execution_count": null,
   "id": "9d4bc3bd",
   "metadata": {},
   "outputs": [],
   "source": [
    "f, ax = plt.subplots(figsize=(13, 5))\n",
    "nlmod.plot.geotop_lithok_in_cross_section(line, geotop, ax=ax)"
   ]
  },
  {
   "cell_type": "markdown",
   "id": "f2bee62b",
   "metadata": {},
   "source": [
    "The GeoTOP-data also contains information abount the stratigraphic unit (layers). The GeoTOP-data can be transformed to a layered Dataset like REGIS using the method `nlmod.read.geotop.convert_geotop_to_ml_layers()`."
   ]
  },
  {
   "cell_type": "code",
   "execution_count": null,
   "id": "88f71481",
   "metadata": {},
   "outputs": [],
   "source": [
    "geotop['strat']"
   ]
  },
  {
   "cell_type": "code",
   "execution_count": null,
   "id": "5d6e1a46",
   "metadata": {},
   "outputs": [],
   "source": [
    "geotop_layered = nlmod.read.geotop.convert_geotop_to_ml_layers(geotop)"
   ]
  },
  {
   "cell_type": "markdown",
   "id": "d753f24a",
   "metadata": {},
   "source": [
    "Exercise 5: how many layers does the layered GeoTOP-data contain?"
   ]
  },
  {
   "cell_type": "code",
   "execution_count": null,
   "id": "64a989a7",
   "metadata": {},
   "outputs": [],
   "source": []
  },
  {
   "cell_type": "markdown",
   "id": "9682628f",
   "metadata": {},
   "source": [
    "Exercise 6: make a cross section of the layered GeoTOP-data, using `nlmod.plot.DatasetCrossSection`."
   ]
  },
  {
   "cell_type": "code",
   "execution_count": null,
   "id": "e7c5408a",
   "metadata": {},
   "outputs": [],
   "source": []
  }
 ],
 "metadata": {
  "kernelspec": {
   "display_name": "Python 3 (ipykernel)",
   "language": "python",
   "name": "python3"
  },
  "language_info": {
   "codemirror_mode": {
    "name": "ipython",
    "version": 3
   },
   "file_extension": ".py",
   "mimetype": "text/x-python",
   "name": "python",
   "nbconvert_exporter": "python",
   "pygments_lexer": "ipython3",
   "version": "3.9.7"
  }
 },
 "nbformat": 4,
 "nbformat_minor": 5
}
