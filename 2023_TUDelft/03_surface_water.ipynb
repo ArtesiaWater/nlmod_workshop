{
 "cells": [
  {
   "cell_type": "markdown",
   "id": "e5a4e18a",
   "metadata": {},
   "source": [
    "# Surface water"
   ]
  },
  {
   "cell_type": "code",
   "execution_count": null,
   "id": "ace4b44f",
   "metadata": {},
   "outputs": [],
   "source": [
    "import matplotlib\n",
    "import nlmod\n",
    "# add a logger with nice coloring\n",
    "logger = nlmod.util.get_color_logger(\"INFO\");"
   ]
  },
  {
   "cell_type": "markdown",
   "id": "d19e46d7",
   "metadata": {},
   "source": [
    "First we specify the model extent. This extent is specified by 4 numbers: [xmin, xmax, ymin, ymax]."
   ]
  },
  {
   "cell_type": "code",
   "execution_count": null,
   "id": "b0ac328d",
   "metadata": {},
   "outputs": [],
   "source": [
    "extent = [116_500, 120_000, 439_000, 442_000]"
   ]
  },
  {
   "cell_type": "markdown",
   "id": "cea97865",
   "metadata": {},
   "source": [
    "## Download BGT\n",
    "Download the surface water items from the Basisregistratie Grootschalige Topografie (BGT: registration large-scale topography) to get the location of the surface water, contained in a GeoDataFrame."
   ]
  },
  {
   "cell_type": "code",
   "execution_count": null,
   "id": "796accfb",
   "metadata": {},
   "outputs": [],
   "source": [
    "bgt = nlmod.read.bgt.get_bgt(extent)"
   ]
  },
  {
   "cell_type": "markdown",
   "id": "1563bbc7",
   "metadata": {},
   "source": [
    "Exercise 1: look at the contents of this GeoDataFrame. What kind of data is this: point-, line- or polygon-data?"
   ]
  },
  {
   "cell_type": "code",
   "execution_count": null,
   "id": "07828fc3",
   "metadata": {},
   "outputs": [],
   "source": []
  },
  {
   "cell_type": "markdown",
   "id": "27080399",
   "metadata": {},
   "source": [
    "## Plot BGT\n",
    "Plot this GeoDataFrame. First create a figure and ax using `f, ax = nlmod.plot.get_map(extent)`, then plot the GeoDataFrame `bgt` using it's plot method, adding it to the created `ax`."
   ]
  },
  {
   "cell_type": "code",
   "execution_count": null,
   "id": "3ce5a2ac",
   "metadata": {},
   "outputs": [],
   "source": [
    "f, ax = nlmod.plot.get_map(extent)\n",
    "bgt.plot(ax=ax);"
   ]
  },
  {
   "cell_type": "markdown",
   "id": "9e3f7050",
   "metadata": {},
   "source": [
    "## Plot column 'bronhouder'\n",
    "As this GeoDataFrame does not contain any information about the stage of the surface water, we need to collect more data about these surface water bodies."
   ]
  },
  {
   "cell_type": "markdown",
   "id": "4dc1eac4",
   "metadata": {},
   "source": [
    "Exercise 2: plot the data-owner of each feature, which is contained in the column 'bronhouder' of the GeoDataFrame. Add \"bronhouder\" as the first argument of `bgt.plot()`, and make sure to plot a legend, by passing `legend=True`."
   ]
  },
  {
   "cell_type": "code",
   "execution_count": null,
   "id": "bd2abd26",
   "metadata": {},
   "outputs": [],
   "source": []
  },
  {
   "cell_type": "markdown",
   "id": "cce0caa2",
   "metadata": {},
   "source": [
    "## Download stages from water boards\n",
    "For all data-owners starting with a 'W' (from Waterboard), we download the level areas, which contain a summer- and a winter- stage. Use the method `nlmod.gwf.surface_water.download_level_areas`, with arguments `bgt` and `extent`."
   ]
  },
  {
   "cell_type": "code",
   "execution_count": null,
   "id": "9c925cb2",
   "metadata": {},
   "outputs": [],
   "source": [
    "la = nlmod.gwf.surface_water.download_level_areas(bgt, extent=extent, raise_exceptions=False)"
   ]
  },
  {
   "cell_type": "markdown",
   "id": "1d3b2a06",
   "metadata": {},
   "source": [
    "Exercise 3: What type of data does this method return: point-, line- or polygon-data?"
   ]
  },
  {
   "cell_type": "code",
   "execution_count": null,
   "id": "321e8648",
   "metadata": {},
   "outputs": [],
   "source": []
  },
  {
   "cell_type": "markdown",
   "id": "da806297",
   "metadata": {},
   "source": [
    "## Plot summer stage of level areas\n",
    "Plot the summer-stage of each level area."
   ]
  },
  {
   "cell_type": "code",
   "execution_count": null,
   "id": "0344a320",
   "metadata": {},
   "outputs": [],
   "source": [
    "f, ax = nlmod.plot.get_map(extent)\n",
    "bgt.plot(color=\"k\", ax=ax)\n",
    "norm = matplotlib.colors.Normalize(vmin=-3, vmax=1)\n",
    "cmap = \"viridis\"\n",
    "for wb in la:\n",
    "    la[wb].plot(\"summer_stage\", ax=ax, norm=norm, cmap=cmap, zorder=0)\n",
    "nlmod.plot.colorbar_inside(norm=norm, cmap=cmap);"
   ]
  },
  {
   "cell_type": "markdown",
   "id": "fe9dfdcc",
   "metadata": {},
   "source": [
    "Exercise 4: plot the difference between summer stage and winter stage."
   ]
  },
  {
   "cell_type": "code",
   "execution_count": null,
   "id": "09feff7f",
   "metadata": {},
   "outputs": [],
   "source": []
  },
  {
   "cell_type": "markdown",
   "id": "c0b97570",
   "metadata": {},
   "source": [
    "## Assign stages from level areas to BGT-data\n",
    "We then need to assign the summer- and winter-stages from the level-areas to the polygon-data of the surface water. We use the method `nlmod.gwf.surface_water.add_stages_from_waterboards()`."
   ]
  },
  {
   "cell_type": "code",
   "execution_count": null,
   "id": "4a75b7c0",
   "metadata": {},
   "outputs": [],
   "source": [
    "bgt = nlmod.gwf.surface_water.add_stages_from_waterboards(bgt, la=la)"
   ]
  },
  {
   "cell_type": "markdown",
   "id": "b4975a68",
   "metadata": {},
   "source": [
    "## Plot summer stage of surface water features\n",
    "Plot the summer stage of the surface water features."
   ]
  },
  {
   "cell_type": "code",
   "execution_count": null,
   "id": "6a139d1e",
   "metadata": {},
   "outputs": [],
   "source": [
    "f, ax = nlmod.plot.get_map(extent)\n",
    "norm = matplotlib.colors.Normalize(vmin=-3, vmax=1)\n",
    "cmap = \"viridis\"\n",
    "bgt.plot(\"summer_stage\", ax=ax, norm=norm, cmap=cmap)\n",
    "nlmod.plot.colorbar_inside(norm=norm, cmap=cmap);"
   ]
  },
  {
   "cell_type": "markdown",
   "id": "1cfb1f49",
   "metadata": {},
   "source": [
    "## Missing features\n",
    "Determine how many polygons do not contain a valid summer stage"
   ]
  },
  {
   "cell_type": "code",
   "execution_count": null,
   "id": "b1d3b9f7",
   "metadata": {},
   "outputs": [],
   "source": [
    "n_nan = bgt['summer_stage'].isna().sum()\n",
    "logger.warning(f'There are {n_nan} features without a summer stage')"
   ]
  },
  {
   "cell_type": "markdown",
   "id": "b0c8964d",
   "metadata": {},
   "source": [
    "## Assign stage of river Lek\n",
    "The most important missing stage is of the river Lek. This river is connceted to the North Sea without any obstructions, so let's assign a fixed level of 0.0 m NAP to this river. You can select the river by determining where \"bronhouder\" is equal to \"L0002\", which is Rijkswaterstaat (the national water authority)."
   ]
  },
  {
   "cell_type": "code",
   "execution_count": null,
   "id": "6af04eca",
   "metadata": {},
   "outputs": [],
   "source": [
    "mask = bgt[\"bronhouder\"] == \"L0002\"\n",
    "bgt.loc[mask, ['summer_stage', 'winter_stage']] = 0.0"
   ]
  },
  {
   "cell_type": "markdown",
   "id": "08b89c48",
   "metadata": {},
   "source": [
    "Exercise 4: again plot the summer stage of the surface water features. If everything went right, the river Lek now also has a non-NaN stage."
   ]
  },
  {
   "cell_type": "code",
   "execution_count": null,
   "id": "09cfd42c",
   "metadata": {},
   "outputs": [],
   "source": []
  },
  {
   "cell_type": "markdown",
   "id": "e976a567",
   "metadata": {},
   "source": [
    "Exercise 5: again determine how many features do not contain a summer-stage. These features will be ignored when using these river features in a model using `nlmod'."
   ]
  },
  {
   "cell_type": "code",
   "execution_count": null,
   "id": "b0914a86",
   "metadata": {},
   "outputs": [],
   "source": []
  }
 ],
 "metadata": {
  "kernelspec": {
   "display_name": "Python 3 (ipykernel)",
   "language": "python",
   "name": "python3"
  },
  "language_info": {
   "codemirror_mode": {
    "name": "ipython",
    "version": 3
   },
   "file_extension": ".py",
   "mimetype": "text/x-python",
   "name": "python",
   "nbconvert_exporter": "python",
   "pygments_lexer": "ipython3",
   "version": "3.9.7"
  }
 },
 "nbformat": 4,
 "nbformat_minor": 5
}
