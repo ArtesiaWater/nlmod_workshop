{
 "cells": [
  {
   "attachments": {},
   "cell_type": "markdown",
   "id": "b39cced7",
   "metadata": {},
   "source": [
    "# Make your own model\n",
    "This notebook is used as a showcase of the basic functionality of nlmod. It downloads data, runs a groundwater model and visualizes some of the in- and output. Feel free to change some of the input-variables, for example the model domain (extent) or the simulation period (time).\n",
    "\n",
    "This notebook builds a model using open data in the Netherlands. The parameters of the model are not calibrated in any way. Therefore, the model probably does not resemble reality very well."
   ]
  },
  {
   "cell_type": "code",
   "execution_count": null,
   "id": "e8b1a18a",
   "metadata": {},
   "outputs": [],
   "source": [
    "# imports\n",
    "from packaging.version import Version\n",
    "import os\n",
    "import matplotlib\n",
    "import matplotlib.pyplot as plt\n",
    "import numpy as np\n",
    "import pandas as pd\n",
    "import xarray as xr\n",
    "import flopy\n",
    "import nlmod"
   ]
  },
  {
   "cell_type": "code",
   "execution_count": null,
   "id": "39643f58",
   "metadata": {},
   "outputs": [],
   "source": [
    "# do a version check first\n",
    "logger = nlmod.util.get_color_logger(\"INFO\")\n",
    "\n",
    "logger.info(f'Current version of nlmod is {nlmod.__version__}')\n",
    "if not Version(nlmod.__version__) >= Version('0.5.2'):\n",
    "    logger.warning('This notebook was made for nlmod version 0.5.2. Please update nlmod first.')"
   ]
  },
  {
   "cell_type": "code",
   "execution_count": null,
   "id": "855a0cc1",
   "metadata": {},
   "outputs": [],
   "source": [
    "# basic setting\n",
    "\n",
    "# set extent: [xmin, xmax, ymin, ymax]\n",
    "# extent = [148_000, 149_000, 393_000, 394_000]  # somewhere in Noord-Brabant\n",
    "# extent = [94_500, 96_500, 484_000, 485_000]  # somewhere along the coast\n",
    "# extent = [120_000, 122_000, 486_000, 488_000]  # the centre of Amsterdam\n",
    "# extent = [100_000, 101_000, 370_000, 371_000]  # in Belgium (needs to give Exception)\n",
    "extent = [32_300, 34_300, 369_600, 371_600]  # somewhere in Zeeuws-Vlaanderen\n",
    "\n",
    "dx = extent[1] - extent[0]\n",
    "dy = extent[3] - extent[2]\n",
    "if dx > 2000 or dy > 2000:\n",
    "    msg = f\"Model size is {dx} by {dy} meter. Please choose a smaller extent, as you will overload this workshop\"\n",
    "    raise (Exception(msg))"
   ]
  },
  {
   "attachments": {},
   "cell_type": "markdown",
   "id": "c2c9b762",
   "metadata": {},
   "source": [
    "## Download MODFLOW executables\n",
    "nlmod does not contain the MODFLOW executable. We need to download the latest executable to the bin-directory of nlmod, if we run a model with nlmod for the first time."
   ]
  },
  {
   "cell_type": "code",
   "execution_count": null,
   "id": "7757e9c3",
   "metadata": {},
   "outputs": [],
   "source": [
    "if not nlmod.util.check_presence_mfbinaries():\n",
    "    nlmod.util.download_mfbinaries()"
   ]
  },
  {
   "attachments": {},
   "cell_type": "markdown",
   "id": "34da2966",
   "metadata": {},
   "source": [
    "## Download data\n",
    "We download data from the internet about REGIS, the digintal terrain model (ahn), Basisregistratie Grootschalige Topografie (bgt) and data of the water boards: level areas (la) and watercourses (wc)."
   ]
  },
  {
   "cell_type": "code",
   "execution_count": null,
   "id": "79983de6",
   "metadata": {},
   "outputs": [],
   "source": [
    "logger.info(\"Downloading data\")\n",
    "regis = nlmod.read.get_regis(extent)\n",
    "\n",
    "ahn = nlmod.read.ahn.get_ahn4(extent)\n",
    "\n",
    "bgt = nlmod.read.bgt.get_bgt(extent)\n",
    "\n",
    "la = nlmod.gwf.download_level_areas(bgt, extent=extent, raise_exceptions=False)\n",
    "\n",
    "wc = nlmod.gwf.download_watercourses(bgt, extent=extent, raise_exceptions=False)"
   ]
  },
  {
   "attachments": {},
   "cell_type": "markdown",
   "id": "128b3927",
   "metadata": {},
   "source": [
    "## Combine surface water data\n",
    "We combine the polygon-data of the Basisregistratie Grootschalige Topografie (BGT) with data about the surface level height (ahn) and data of the water boards: level areas (la) and watercourses (wc). We determine a stage and a bottom height (rbot) for ewach of the polygons."
   ]
  },
  {
   "cell_type": "code",
   "execution_count": null,
   "id": "839b82a5",
   "metadata": {},
   "outputs": [],
   "source": [
    "# add information from ahn to bgt\n",
    "bgt = nlmod.gwf.surface_water.add_min_ahn_to_gdf(bgt, ahn, buffer=5.0)\n",
    "\n",
    "# add information from level areas (la) to bgt\n",
    "bgt = nlmod.gwf.surface_water.add_stages_from_waterboards(bgt, la)\n",
    "\n",
    "# add information from watercources (wc) to bgt\n",
    "bgt = nlmod.gwf.surface_water.add_bottom_height_from_waterboards(bgt, wc)\n",
    "\n",
    "# determine stage and rbot of surface water\n",
    "bgt[\"stage\"] = bgt[[\"winter_stage\", \"summer_stage\"]].mean(1)\n",
    "# set a mean sea level of 0.0 m NAP (when sea is in the model)\n",
    "bgt.loc[bgt[\"class\"] == \"zee\", \"stage\"] = 0.0\n",
    "# when no stage is defined, set the stage to the minimum surface height\n",
    "mask = bgt[\"stage\"].isna()\n",
    "bgt.loc[mask, \"stage\"] = bgt.loc[mask, \"ahn_min\"]\n",
    "\n",
    "# rbot determines in which layer the drain is added\n",
    "bgt[\"rbot\"] = bgt[\"bottom_height\"]\n",
    "# when stage is below rbot, increase stage to rbot\n",
    "mask = bgt[\"stage\"] < bgt[\"rbot\"]\n",
    "bgt.loc[mask, \"stage\"] = bgt.loc[mask, \"rbot\"]\n",
    "# when no bottom height is known, assume a water depth of 0,5 meter\n",
    "mask = bgt[\"rbot\"].isna()\n",
    "bgt.loc[mask, \"rbot\"] = bgt.loc[mask, \"stage\"] - 0.5"
   ]
  },
  {
   "attachments": {},
   "cell_type": "markdown",
   "id": "e2be3715",
   "metadata": {},
   "source": [
    "## Plot some input-data"
   ]
  },
  {
   "cell_type": "code",
   "execution_count": null,
   "id": "31115f02",
   "metadata": {},
   "outputs": [],
   "source": [
    "# plot a map with surface water bodies\n",
    "f, ax = nlmod.plot.get_map(extent)\n",
    "qm = nlmod.plot.data_array(ahn, ax=ax)\n",
    "nlmod.plot.colorbar_inside(qm, label=\"Maaiveldhoogte volgens AHN4 (m NAP)\")\n",
    "handles = []\n",
    "bgt.plot(ax=ax, color=\"k\")\n",
    "handles.append(matplotlib.patches.Patch(facecolor=\"k\", label=\"BGT-laag waterdeel\"))\n",
    "for wb in wc:\n",
    "    wc[wb].plot(ax=ax, color=\"b\", linewidth=1)\n",
    "    label = f\"Data waterlopen {wb}\"\n",
    "    handles.append(matplotlib.lines.Line2D([], [], color=\"b\", linewidth=1, label=label))\n",
    "ax.legend(handles=handles, loc=2);"
   ]
  },
  {
   "cell_type": "code",
   "execution_count": null,
   "id": "ff71a2c9",
   "metadata": {},
   "outputs": [],
   "source": [
    "# plot a cross-section through regis\n",
    "f, ax = plt.subplots(figsize=(10, 5))\n",
    "ax.set_xlabel('Afstand langs doorsnede (m)')\n",
    "ax.set_ylabel('z (m NAP)')\n",
    "# define a line from southwest to northeast\n",
    "sw = (extent[0], extent[2])\n",
    "ne = (extent[1], extent[3])\n",
    "line = [sw, ne]\n",
    "dcs = nlmod.plot.dcs.DatasetCrossSection(regis, line, zmin=-200, zmax=float(ahn.max()))\n",
    "dcs.plot_layers(nlmod.read.regis.get_legend(), min_label_area=10000)\n",
    "f.tight_layout(pad=0.0)"
   ]
  },
  {
   "attachments": {},
   "cell_type": "markdown",
   "id": "6d0769ef",
   "metadata": {},
   "source": [
    "## Start a model Dataset\n",
    "We add most of the grid-data to a model Dataset, which is an xarray Dataset. We add grid-refinement (opionally), change the model top and download KNMI-data."
   ]
  },
  {
   "cell_type": "code",
   "execution_count": null,
   "id": "4d153a47",
   "metadata": {},
   "outputs": [],
   "source": [
    "model_name = \"nhv_dag\"\n",
    "model_ws = os.path.join(\"model\", model_name)\n",
    "ds = nlmod.to_model_ds(regis, delr=25.0, model_name=model_name, model_ws=model_ws)\n",
    "\n",
    "if True:\n",
    "    # refine model\n",
    "    ds = nlmod.grid.refine(ds, refinement_features=[(bgt, 1)])\n",
    "\n",
    "if True:\n",
    "    # calculate a finer top from ahn\n",
    "    top = nlmod.resample.structured_da_to_ds(ahn, ds)\n",
    "    # when top is NaN, keep the original top\n",
    "    top = top.where(~top.isnull(), ds[\"top\"])\n",
    "    # set the new top\n",
    "    ds = nlmod.layers.set_model_top(ds, top)\n",
    "\n",
    "if False:\n",
    "    # set starting head to surface level (instead of 0.0)\n",
    "    strt = np.repeat(ds[\"top\"].data[np.newaxis, :], len(ds.layer), 0)\n",
    "    ds[\"starting_head\"] = ds[\"botm\"].dims, strt\n",
    "\n",
    "# set time dimension\n",
    "time = pd.date_range(\"2017\", \"2023\", freq=\"SMS\")\n",
    "ds = nlmod.time.set_ds_time(ds, time)\n",
    "\n",
    "# download knmi-data to determine recharge\n",
    "ds.update(nlmod.read.knmi.get_recharge(ds, cachedir=ds.cachedir, cachename=\"knmi.nc\"))"
   ]
  },
  {
   "attachments": {},
   "cell_type": "markdown",
   "id": "896c7de3",
   "metadata": {},
   "source": [
    "## Make a groundwater flow model (gwf)\n",
    "For FloPy, we create a simulation (sim) and a groundwater flow model (gwf) usinge the method  `nlmod.gwf.ds_to_gwf()`. It adds the basic MODFLOW packages to the simulation (tdis and ims) and the groundwater flow model (dis, npf, ic, oc). If \"recharge\" is present in DataSet, its add a rch-package as well."
   ]
  },
  {
   "cell_type": "code",
   "execution_count": null,
   "id": "7f8f9d7c",
   "metadata": {},
   "outputs": [],
   "source": [
    "gwf = nlmod.gwf.ds_to_gwf(ds, complexity=\"moderate\", icelltype=0, under_relaxation=False)\n",
    "\n",
    "# add storage package\n",
    "sy = 0.2\n",
    "ss = 1e-05\n",
    "ss_confined_only = True\n",
    "if ss_confined_only:\n",
    "    # use a trick to calculate with a storage coefficient of 1.0 (surface water)\n",
    "    # when the top layer is fully saturated\n",
    "    ss = xr.full_like(ds[\"idomain\"], 1e-05, float)\n",
    "    fal = nlmod.layers.get_first_active_layer(ds)\n",
    "    ss[fal] = 1.0 / nlmod.layers.calculate_thickness(ds)[fal]\n",
    "nlmod.gwf.sto(ds, gwf, sy=sy, ss=ss, ss_confined_only=ss_confined_only);"
   ]
  },
  {
   "cell_type": "code",
   "execution_count": null,
   "id": "763acd36",
   "metadata": {},
   "outputs": [],
   "source": [
    "# split surface water by modelgrid\n",
    "bgt_grid = nlmod.grid.gdf_to_grid(bgt, ds).set_index(\"cellid\")\n",
    "# calculate conductance from a resistance of 1.0 days\n",
    "bgt_grid[\"cond\"] = bgt_grid.area / 1.0\n",
    "\n",
    "# add surface water as drains\n",
    "spd = nlmod.gwf.surface_water.build_spd(bgt_grid, \"DRN\", ds)\n",
    "flopy.mf6.ModflowGwfdrn(gwf, stress_period_data={0: spd});"
   ]
  },
  {
   "attachments": {},
   "cell_type": "markdown",
   "id": "30ff3334",
   "metadata": {},
   "source": [
    "## Run model\n",
    "We write input-files for MODFLOW 6 and run the model."
   ]
  },
  {
   "cell_type": "code",
   "execution_count": null,
   "id": "b7299059",
   "metadata": {},
   "outputs": [],
   "source": [
    "nlmod.sim.write_and_run(gwf, ds)"
   ]
  },
  {
   "attachments": {},
   "cell_type": "markdown",
   "id": "95bade52",
   "metadata": {},
   "source": [
    "## Plot some output-data"
   ]
  },
  {
   "cell_type": "code",
   "execution_count": null,
   "id": "98b2c253",
   "metadata": {},
   "outputs": [],
   "source": [
    "# read heads and determine gxg\n",
    "head = nlmod.gwf.get_heads_da(ds)\n",
    "gxg = nlmod.gwf.calculate_gxg(head)"
   ]
  },
  {
   "cell_type": "code",
   "execution_count": null,
   "id": "c5cedd39",
   "metadata": {},
   "outputs": [],
   "source": [
    "# plot ghg of the first active layer\n",
    "f, ax = nlmod.plot.get_map(extent)\n",
    "fal = nlmod.layers.get_first_active_layer(ds)\n",
    "qm = nlmod.plot.data_array(gxg[\"ghg\"][fal], ds=ds, edgecolor=\"grey\")\n",
    "bgt.plot(ax=ax, linewidth=1, edgecolor=\"k\", facecolor=\"none\")\n",
    "nlmod.plot.colorbar_inside(qm, label=\"GHG (m NAP)\");"
   ]
  },
  {
   "cell_type": "code",
   "execution_count": null,
   "id": "4b34e978",
   "metadata": {},
   "outputs": [],
   "source": [
    "# plot the head at a certain point in several layers\n",
    "x = np.mean([extent[0], extent[1]])\n",
    "y = np.mean([extent[2], extent[3]])\n",
    "head_point = nlmod.gwf.get_head_at_point(head, x, y, ds=ds)\n",
    "f, ax = plt.subplots(figsize=(10, 6))\n",
    "head_point.to_pandas().plot(ax=ax)\n",
    "ax.autoscale(tight=True)\n",
    "ax.set_ylabel('Grondwaterstand / stijghoogte (m NAP)')\n",
    "ax.set_xlabel('')\n",
    "f.tight_layout(pad=0.0)"
   ]
  },
  {
   "attachments": {},
   "cell_type": "markdown",
   "id": "63c6bfd8",
   "metadata": {},
   "source": [
    "## Compare with measurements"
   ]
  },
  {
   "cell_type": "code",
   "execution_count": null,
   "id": "bbb353f5",
   "metadata": {},
   "outputs": [],
   "source": [
    "# download measurements\n",
    "import hydropandas as hpd\n",
    "\n",
    "fname_pklz = os.path.join(ds.cachedir, 'oc_bro.pklz')\n",
    "if os.path.exists(fname_pklz):\n",
    "    oc = pd.read_pickle(fname_pklz)\n",
    "else:\n",
    "    oc = hpd.read_bro(extent=ds.extent, name='BRO', tmin=ds.time.values.min(), tmax=ds.time.values.max(), )\n",
    "    oc.to_pickle(fname_pklz)\n",
    "\n",
    "\n",
    "# get modellayers\n",
    "oc['modellayer'] = oc.gwobs.get_modellayers(ds=ds)\n",
    "\n",
    "# get modelled head at measurement points\n",
    "ds['heads'] = nlmod.gwf.get_heads_da(ds)\n",
    "oc_modflow = hpd.read_modflow(oc, gwf, ds['heads'].values, ds.time.values)\n",
    "\n",
    "# add modelled head to measured heads\n",
    "obs_list_map = []\n",
    "for gld in oc.index:\n",
    "    o = oc.loc[gld,'obs']\n",
    "    if o.empty:\n",
    "        continue\n",
    "    \n",
    "    o = o.resample('D').last().sort_index()\n",
    "    modelled = oc_modflow.loc[gld, 'obs']\n",
    "    modelled = hpd.GroundwaterObs(modelled.rename(columns={0: 'values'}), name=f'{o.name}_mod_lay{oc.loc[gld,\"modellayer\"]}', x=o.x, y=o.y, \n",
    "                                  tube_nr=o.tube_nr+1,screen_top=o.screen_top, screen_bottom=o.screen_bottom, \n",
    "                                  tube_top=o.tube_top, monitoring_well=o.monitoring_well, source='MODFLOW', unit= 'm NAP',\n",
    "                                  ground_level=o.ground_level, metadata_available=o.metadata_available)\n",
    "    obs_list_map.append(o)\n",
    "    obs_list_map.append(modelled)\n",
    "\n",
    "oc_map = hpd.ObsCollection.from_list(obs_list_map, name='meting+model')\n",
    "\n",
    "# c#create interactive map\n",
    "oc_map.plots.interactive_map(os.path.join(ds.figdir, 'iplots'))"
   ]
  },
  {
   "attachments": {},
   "cell_type": "markdown",
   "id": "e89df7b2",
   "metadata": {},
   "source": [
    "#### Exercise 10\n",
    "\n",
    "In the cells above change the extent to a place in the Netherlands you would like to model. Run the model and check the results. Try to see which processes are missing or modelled incorrectly. Think about how you can improve this.\n",
    "\n",
    "Note: this functionality of nlmod has not been tested thoroughly so there is a big chance you will encounter errors that are hard to solve, sorry for that :)"
   ]
  },
  {
   "cell_type": "code",
   "execution_count": null,
   "id": "5b95711e",
   "metadata": {},
   "outputs": [],
   "source": []
  }
 ],
 "metadata": {
  "kernelspec": {
   "display_name": "Python 3 (ipykernel)",
   "language": "python",
   "name": "python3"
  },
  "language_info": {
   "codemirror_mode": {
    "name": "ipython",
    "version": 3
   },
   "file_extension": ".py",
   "mimetype": "text/x-python",
   "name": "python",
   "nbconvert_exporter": "python",
   "pygments_lexer": "ipython3",
   "version": "3.9.4"
  }
 },
 "nbformat": 4,
 "nbformat_minor": 5
}
