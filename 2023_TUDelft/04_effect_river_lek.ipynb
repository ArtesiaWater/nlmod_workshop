{
 "cells": [
  {
   "cell_type": "markdown",
   "id": "305f1388",
   "metadata": {},
   "source": [
    "# Determine effect of river Lek near Schoonhoven"
   ]
  },
  {
   "cell_type": "code",
   "execution_count": null,
   "id": "f7ff6205",
   "metadata": {},
   "outputs": [],
   "source": [
    "import os\n",
    "import matplotlib.pyplot as plt\n",
    "import pandas as pd\n",
    "import geopandas as gpd\n",
    "import flopy\n",
    "import nlmod\n",
    "logger = nlmod.util.get_color_logger(\"INFO\");"
   ]
  },
  {
   "cell_type": "code",
   "execution_count": null,
   "id": "748e6072",
   "metadata": {},
   "outputs": [],
   "source": [
    "model_name = \"Schoonhoven\"\n",
    "model_ws = \"schoonhoven\"\n",
    "figdir, cachedir = nlmod.util.get_model_dirs(model_ws)\n",
    "extent = [116_500, 120_000, 439_000, 442_000]\n",
    "time = pd.date_range(\"2020\", \"2023\", freq=\"MS\")  # monthly timestep"
   ]
  },
  {
   "cell_type": "markdown",
   "id": "0c32731c",
   "metadata": {},
   "source": [
    "## Build model"
   ]
  },
  {
   "cell_type": "code",
   "execution_count": null,
   "id": "a0674e03",
   "metadata": {
    "scrolled": false
   },
   "outputs": [],
   "source": [
    "layer_model = nlmod.read.regis.get_combined_layer_models(\n",
    "    extent,\n",
    "    use_regis=True,\n",
    "    use_geotop=False,\n",
    "    cachedir=cachedir,\n",
    "    cachename=\"layer_model.nc\",\n",
    ")\n",
    "layer_model"
   ]
  },
  {
   "cell_type": "code",
   "execution_count": null,
   "id": "3e311dbf",
   "metadata": {},
   "outputs": [],
   "source": [
    "ds = nlmod.to_model_ds(layer_model, model_name, model_ws, delr=50.0)\n",
    "ds = nlmod.time.set_ds_time(ds, time=time)"
   ]
  },
  {
   "cell_type": "code",
   "execution_count": null,
   "id": "87d7c3e2",
   "metadata": {},
   "outputs": [],
   "source": [
    "f, ax = plt.subplots(figsize=(13, 5))\n",
    "line = [(116_500, 440_000), (120_000, 440_000)]\n",
    "dcs = nlmod.plot.DatasetCrossSection(ds, line, ax=ax, zmin=-100)\n",
    "colors = nlmod.read.regis.get_legend()['color'].to_dict()\n",
    "for layer in ds.layer.data:\n",
    "    if layer not in colors:\n",
    "        colors[layer] = colors['HLc']\n",
    "dcs.plot_layers(colors=colors, min_label_area=1000.0);\n",
    "dcs.plot_grid(vertical=False)"
   ]
  },
  {
   "cell_type": "markdown",
   "id": "6e4cb8fd",
   "metadata": {},
   "source": [
    "Exercise 1: plot the horizontal conductivity (kh) in a cross-section along the same line. Use the method `dcs.plot_array()` to plot the variable 'kh' in ds."
   ]
  },
  {
   "cell_type": "code",
   "execution_count": null,
   "id": "c533d2b1",
   "metadata": {},
   "outputs": [],
   "source": []
  },
  {
   "cell_type": "markdown",
   "id": "9314f563",
   "metadata": {},
   "source": [
    "## Get surface water data\n",
    "Get information about the surface water data. Run the notebook surface_water.ipynb for more information."
   ]
  },
  {
   "cell_type": "code",
   "execution_count": null,
   "id": "92a95aa0",
   "metadata": {},
   "outputs": [],
   "source": [
    "fname = os.path.join(cachedir, 'bgt.geojson')\n",
    "if not os.path.isfile(fname):\n",
    "    bgt = nlmod.read.bgt.get_bgt(extent)\n",
    "    la = nlmod.gwf.surface_water.download_level_areas(bgt, extent=extent, raise_exceptions=False)\n",
    "    bgt = nlmod.gwf.surface_water.add_stages_from_waterboards(bgt, la=la)\n",
    "    bgt.to_file(fname, driver=\"GeoJSON\")\n",
    "else:\n",
    "    logger.info('using cached data -> bgt.geojson')\n",
    "bgt = gpd.read_file(fname)"
   ]
  },
  {
   "cell_type": "markdown",
   "id": "393229a8",
   "metadata": {},
   "source": [
    "## Download precipitation and evaporation\n",
    "We download precipitation and evaporation from the KNMI and calculate the net recharge in each timestep."
   ]
  },
  {
   "cell_type": "code",
   "execution_count": null,
   "id": "bdd907d1",
   "metadata": {},
   "outputs": [],
   "source": [
    "knmi_ds = nlmod.read.knmi.get_recharge(ds, cachedir=cachedir, cachename=\"recharge.nc\")\n",
    "ds.update(knmi_ds)"
   ]
  },
  {
   "cell_type": "markdown",
   "id": "b874f5ef",
   "metadata": {},
   "source": [
    "## Create a Modflow 6 simulation\n",
    "We generate a Modflow 6 simulation (sim) abd groundwater flow (gwf) model."
   ]
  },
  {
   "cell_type": "code",
   "execution_count": null,
   "id": "eb47aa77",
   "metadata": {},
   "outputs": [],
   "source": [
    "# create simulation\n",
    "sim = nlmod.sim.sim(ds)\n",
    "\n",
    "# create time discretisation\n",
    "tdis = nlmod.sim.tdis(ds, sim)\n",
    "\n",
    "# create ims\n",
    "ims = nlmod.sim.ims(sim, complexity='moderate')\n",
    "\n",
    "# create groundwater flow model\n",
    "gwf = nlmod.gwf.gwf(ds, sim)\n",
    "\n",
    "# Create discretization\n",
    "dis = nlmod.gwf.dis(ds, gwf)\n",
    "\n",
    "# create node property flow\n",
    "npf = nlmod.gwf.npf(ds, gwf, save_flows=True)\n",
    "\n",
    "# Create the initial conditions package\n",
    "ic = nlmod.gwf.ic(ds, gwf, starting_head=0.0)\n",
    "\n",
    "# Create the output control package\n",
    "oc = nlmod.gwf.oc(ds, gwf)\n",
    "\n",
    "# create storage package\n",
    "sto = nlmod.gwf.sto(ds, gwf)\n",
    "\n",
    "# create recharge package\n",
    "rch = nlmod.gwf.rch(ds, gwf)"
   ]
  },
  {
   "cell_type": "markdown",
   "id": "a0754dfe",
   "metadata": {},
   "source": [
    "## Process surface water\n",
    "We grid the surface water elements, calculate the conductane, and split the river Lek from the other shapes."
   ]
  },
  {
   "cell_type": "code",
   "execution_count": null,
   "id": "b41ff7c6",
   "metadata": {},
   "outputs": [],
   "source": [
    "bgt_grid = nlmod.grid.gdf_to_grid(bgt, ds).set_index(\"cellid\")\n",
    "\n",
    "bed_resistance = 1.0\n",
    "bgt_grid[\"cond\"] = bgt_grid.area / bed_resistance\n",
    "\n",
    "# handle the lek as a river\n",
    "mask = bgt_grid[\"bronhouder\"] == \"L0002\"\n",
    "lek = bgt_grid[mask]\n",
    "bgt_grid = bgt_grid[~mask]"
   ]
  },
  {
   "cell_type": "markdown",
   "id": "044de084",
   "metadata": {},
   "source": [
    "## Add a RIV-package\n",
    "We add the river Lek using the River-package, which means it can infiltrate as well."
   ]
  },
  {
   "cell_type": "code",
   "execution_count": null,
   "id": "721a6f00",
   "metadata": {},
   "outputs": [],
   "source": [
    "lek[\"stage\"] = 0.0\n",
    "lek[\"rbot\"] = -3.0\n",
    "spd = nlmod.gwf.surface_water.build_spd(lek, \"RIV\", ds)\n",
    "riv = flopy.mf6.ModflowGwfriv(gwf, stress_period_data={0: spd})"
   ]
  },
  {
   "cell_type": "markdown",
   "id": "401b5449",
   "metadata": {},
   "source": [
    "## Add a DRN-package\n",
    "We add all other surface water elements as drains, which means they cannot infiltrate."
   ]
  },
  {
   "cell_type": "code",
   "execution_count": null,
   "id": "201fe791",
   "metadata": {},
   "outputs": [],
   "source": [
    "drn = nlmod.gwf.surface_water.gdf_to_seasonal_pkg(bgt_grid, gwf, ds, save_flows=True);"
   ]
  },
  {
   "cell_type": "markdown",
   "id": "b4404b83",
   "metadata": {},
   "source": [
    "## Run and process output"
   ]
  },
  {
   "cell_type": "code",
   "execution_count": null,
   "id": "cec94d08",
   "metadata": {},
   "outputs": [],
   "source": [
    "nlmod.sim.write_and_run(sim, ds)"
   ]
  },
  {
   "cell_type": "markdown",
   "id": "984f1091",
   "metadata": {},
   "source": [
    "Retreive output from the model"
   ]
  },
  {
   "cell_type": "code",
   "execution_count": null,
   "id": "f0123c86",
   "metadata": {},
   "outputs": [],
   "source": [
    "head0 = nlmod.gwf.get_heads_da(ds)\n",
    "# Get the groundwater level, which is the head in the upper active layer (not all layers are present everywhere)\n",
    "gws0 = nlmod.gwf.output.get_gwl_from_wet_cells(head0)\n",
    "q_drn0 = nlmod.gwf.output.get_budget_da('DRN', ds=ds)"
   ]
  },
  {
   "cell_type": "markdown",
   "id": "6ef3ce60",
   "metadata": {},
   "source": [
    "## Plot the groundwater level"
   ]
  },
  {
   "cell_type": "code",
   "execution_count": null,
   "id": "d4c4e39f",
   "metadata": {},
   "outputs": [],
   "source": [
    "f, ax = nlmod.plot.get_map(extent)\n",
    "pc = nlmod.plot.data_array(gws0.mean(\"time\"), ds=ds)\n",
    "cbar = nlmod.plot.colorbar_inside(pc)\n",
    "bgt.plot(ax=ax, edgecolor=\"k\", facecolor=\"none\");"
   ]
  },
  {
   "cell_type": "markdown",
   "id": "549134dd",
   "metadata": {},
   "source": [
    "Let's plot the heads at the office of Artesia, in the centre of Schoonhoven."
   ]
  },
  {
   "cell_type": "code",
   "execution_count": null,
   "id": "f2b7a074",
   "metadata": {},
   "outputs": [],
   "source": [
    "x = 118228\n",
    "y = 439870\n",
    "head_point = nlmod.gwf.get_head_at_point(head0, x=x, y=y, ds=ds).to_pandas()\n",
    "ax = head_point.plot(figsize=(13,8))\n",
    "ax.figure.tight_layout(pad=0.0)"
   ]
  },
  {
   "cell_type": "markdown",
   "id": "6f1aebda",
   "metadata": {},
   "source": [
    "Plot the discharge from the model"
   ]
  },
  {
   "cell_type": "code",
   "execution_count": null,
   "id": "909489f9",
   "metadata": {},
   "outputs": [],
   "source": [
    "f, ax = nlmod.plot.get_map(extent)\n",
    "da = -q_drn0.sum('layer').mean('time') / ds['area']\n",
    "pc = nlmod.plot.data_array(da, ds=ds, cmap='Blues')\n",
    "cbar = nlmod.plot.colorbar_inside(pc, label='Drainagedebiet (mm/d)')\n",
    "bgt.plot(ax=ax, edgecolor=\"k\", facecolor=\"none\");"
   ]
  },
  {
   "cell_type": "markdown",
   "id": "c8a12b45",
   "metadata": {},
   "source": [
    "## Now calculate with a higher stage of the Lek\n",
    "We now want to know what is the influence of the river Lek. Therefore we set the stage of the Lek 1 meter higher, from 0.0 to 1.0 m NAP."
   ]
  },
  {
   "cell_type": "code",
   "execution_count": null,
   "id": "8c29fa33",
   "metadata": {},
   "outputs": [],
   "source": [
    "# remove the current RIV-package\n",
    "gwf.remove_package('RIV')\n",
    "# set the stage of the Lek\n",
    "lek[\"stage\"] = 1.0\n",
    "# generate a new riv package\n",
    "spd = nlmod.gwf.surface_water.build_spd(lek, \"RIV\", ds)\n",
    "riv = flopy.mf6.ModflowGwfriv(gwf, stress_period_data={0: spd})\n",
    "# run the model again\n",
    "nlmod.sim.write_and_run(sim, ds)"
   ]
  },
  {
   "cell_type": "markdown",
   "id": "1fbaebd3",
   "metadata": {},
   "source": [
    "Retreive output from the model"
   ]
  },
  {
   "cell_type": "code",
   "execution_count": null,
   "id": "512bbd1e",
   "metadata": {},
   "outputs": [],
   "source": [
    "head1 = nlmod.gwf.get_heads_da(ds)\n",
    "gws1 = nlmod.gwf.output.get_gwl_from_wet_cells(head1)\n",
    "q_drn1 = nlmod.gwf.output.get_budget_da('DRN', ds=ds)"
   ]
  },
  {
   "cell_type": "markdown",
   "id": "17b634d7",
   "metadata": {},
   "source": [
    "## Plot the difference in groundwater level between the two model runs"
   ]
  },
  {
   "cell_type": "code",
   "execution_count": null,
   "id": "5d4c94eb",
   "metadata": {},
   "outputs": [],
   "source": [
    "f, ax = nlmod.plot.get_map(extent)\n",
    "dgws = gws1 - gws0\n",
    "pc = nlmod.plot.data_array(dgws.mean(\"time\"), ds=ds, vmin=0.0, vmax=1.0)\n",
    "cbar = nlmod.plot.colorbar_inside(pc)\n",
    "bgt.plot(ax=ax, edgecolor=\"k\", facecolor=\"none\");"
   ]
  },
  {
   "cell_type": "code",
   "execution_count": null,
   "id": "fcc4653b",
   "metadata": {},
   "outputs": [],
   "source": [
    "dhead = (head1 - head0).mean('time')\n",
    "fg = dhead.plot(\n",
    "    x=\"x\",\n",
    "    y=\"y\",\n",
    "    col=\"layer\",\n",
    "    col_wrap=5,\n",
    "    subplot_kws={\"aspect\": \"equal\"},\n",
    "    vmin=0.0,\n",
    "    vmax=1.0\n",
    ")"
   ]
  },
  {
   "cell_type": "markdown",
   "id": "665affda",
   "metadata": {},
   "source": [
    "So the effect in the polder are minimal. Maybe the drainage near the river increases?"
   ]
  },
  {
   "cell_type": "code",
   "execution_count": null,
   "id": "ccf8e9dc",
   "metadata": {},
   "outputs": [],
   "source": [
    "Exercise 2: plot the increase in drain discharge as a percentage of the original drain discharge."
   ]
  },
  {
   "cell_type": "code",
   "execution_count": null,
   "id": "db845b6f",
   "metadata": {},
   "outputs": [],
   "source": []
  },
  {
   "cell_type": "markdown",
   "id": "7ee3a8c3",
   "metadata": {},
   "source": [
    "## Exercises"
   ]
  },
  {
   "cell_type": "markdown",
   "id": "9619eb21",
   "metadata": {},
   "source": [
    "Exercise 3: do you think the model is large enough to awnser this question?"
   ]
  },
  {
   "cell_type": "markdown",
   "id": "8dc90e6d",
   "metadata": {},
   "source": [
    "Exercise 4: the top layer of the model is the Holocene layer (HLc), for which REGIS does not contain hydraulic conductivities. Therefore kh is set to the default value of 1.0 m/d and kv to 0.1 m/d (see the info message after `nlmod.to_model_ds()`). We can use GeoTOP to get a better estimate for these conductivities. Change an argument in `nlmod.read.regis.get_combined_layer_models()` and recalculate the effect of an increase of the stage of the Lek with 1 meter. As the GeoTOP-data has more variation, with high and low hydrulic conductivities close to eachother, the model has difficulty in converging. Change the `complexity` argument in `nlmod.sim.ims()`, so the model will converge again."
   ]
  }
 ],
 "metadata": {
  "kernelspec": {
   "display_name": "Python 3 (ipykernel)",
   "language": "python",
   "name": "python3"
  },
  "language_info": {
   "codemirror_mode": {
    "name": "ipython",
    "version": 3
   },
   "file_extension": ".py",
   "mimetype": "text/x-python",
   "name": "python",
   "nbconvert_exporter": "python",
   "pygments_lexer": "ipython3",
   "version": "3.9.7"
  }
 },
 "nbformat": 4,
 "nbformat_minor": 5
}
