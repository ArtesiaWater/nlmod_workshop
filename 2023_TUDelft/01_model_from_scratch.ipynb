{
 "cells": [
  {
   "attachments": {},
   "cell_type": "markdown",
   "metadata": {},
   "source": [
    "<IMG SRC=\"https://avatars2.githubusercontent.com/u/31697400?s=400&u=a5a6fc31ec93c07853dd53835936fd90c44f7483&v=4\" WIDTH=125 ALIGN=\"right\">\n",
    "\n",
    "\n",
    "# Building a groundwater model from scratch\n",
    "\n",
    "This notebook shows how to build a basic model from scratch using `nlmod`."
   ]
  },
  {
   "cell_type": "code",
   "execution_count": null,
   "metadata": {},
   "outputs": [],
   "source": [
    "# import packages\n",
    "import flopy as fp\n",
    "import matplotlib.pyplot as plt\n",
    "import nlmod\n",
    "import numpy as np\n",
    "import pandas as pd"
   ]
  },
  {
   "cell_type": "code",
   "execution_count": null,
   "metadata": {},
   "outputs": [],
   "source": [
    "# Show logging messages with level \"INFO\" or higher\n",
    "nlmod.util.get_color_logger(\"INFO\");"
   ]
  },
  {
   "attachments": {},
   "cell_type": "markdown",
   "metadata": {},
   "source": [
    "## Download MODFLOW-binaries\n",
    "The first time you use nlmod you need to download the MODFLOW-excecutables. We do this with the following code:"
   ]
  },
  {
   "cell_type": "code",
   "execution_count": null,
   "metadata": {},
   "outputs": [],
   "source": [
    "if not nlmod.util.check_presence_mfbinaries():\n",
    "    nlmod.util.download_mfbinaries()"
   ]
  },
  {
   "attachments": {},
   "cell_type": "markdown",
   "metadata": {},
   "source": [
    "## Model parameters\n",
    "\n",
    "Set some modelgrid parameters"
   ]
  },
  {
   "cell_type": "code",
   "execution_count": null,
   "metadata": {},
   "outputs": [],
   "source": [
    "extent = [-500, 500, -500, 500] #extent of the model [xmin, xmax, ymin, ymax]\n",
    "\n",
    "top = 0.0 #top level of the first model layers\n",
    "botm = [-10, -15, -30] #bottom level of every model layer \n",
    "\n",
    "kh = [10, 0.1, 20] # horizontal conductivity per model layer\n",
    "kv = [0.5 * k for k in kh] # vertical conductivity per model layer\n",
    "\n",
    "dx = 10.0 # cell size in x direction\n",
    "dy = 10.0 # cell size in y direction"
   ]
  },
  {
   "attachments": {},
   "cell_type": "markdown",
   "metadata": {},
   "source": [
    "### Create model dataset\n",
    "\n",
    "Create a model dataset with the coördinates `layer`, `x` and `y`. The model data such as top, botm, kh, kv are stored in the modeldataset with the data linked to the relevant coördinates."
   ]
  },
  {
   "cell_type": "code",
   "execution_count": null,
   "metadata": {},
   "outputs": [],
   "source": [
    "ds = nlmod.get_ds(\n",
    "    extent,\n",
    "    delr=dx,\n",
    "    delc=dy,\n",
    "    top=top,\n",
    "    botm=botm,\n",
    "    kh=kh,\n",
    "    kv=kv,\n",
    "    model_ws=\"./scratch_model\",\n",
    "    model_name=\"from_scratch\",\n",
    ")\n",
    "ds"
   ]
  },
  {
   "attachments": {},
   "cell_type": "markdown",
   "metadata": {},
   "source": [
    "### Set time discretisation\n",
    "\n",
    "Add the time dimension to the model dataset. In this case we use the default settings to create a steady state model with a single time step."
   ]
  },
  {
   "cell_type": "code",
   "execution_count": null,
   "metadata": {},
   "outputs": [],
   "source": [
    "ds = nlmod.time.set_ds_time(ds, time=pd.Timestamp.today(), steady_state=True)\n",
    "ds.time"
   ]
  },
  {
   "attachments": {},
   "cell_type": "markdown",
   "metadata": {},
   "source": [
    "### Start building model\n",
    "\n",
    "Here we build the modflow package using the model dataset."
   ]
  },
  {
   "cell_type": "code",
   "execution_count": null,
   "metadata": {},
   "outputs": [],
   "source": [
    "sim = nlmod.sim.sim(ds)\n",
    "tdis = nlmod.sim.tdis(ds, sim)\n",
    "ims = nlmod.sim.ims(sim, complexity=\"SIMPLE\")\n",
    "gwf = nlmod.gwf.gwf(ds, sim)\n",
    "dis = nlmod.gwf.dis(ds, gwf)\n",
    "npf = nlmod.gwf.npf(ds, gwf)\n",
    "ic = nlmod.gwf.ic(ds, gwf, starting_head=1.0)\n",
    "oc = nlmod.gwf.oc(ds, gwf, save_head=True)"
   ]
  },
  {
   "attachments": {},
   "cell_type": "markdown",
   "metadata": {},
   "source": [
    "### Add wells\n",
    "\n",
    "We add two extraction wells to the model. They have an extraction rate of respectively 100.0 and 300.0 m3/day."
   ]
  },
  {
   "cell_type": "code",
   "execution_count": null,
   "metadata": {},
   "outputs": [],
   "source": [
    "wells = pd.DataFrame(columns=[\"x\", \"y\", \"top\", \"botm\", \"Q\"], index=range(2))\n",
    "wells.index.name = \"well no.\"\n",
    "wells.loc[0] = 100, -50, -5, -10, -100.0\n",
    "wells.loc[1] = 200, 150, -20, -30, -300.0\n",
    "wells"
   ]
  },
  {
   "cell_type": "code",
   "execution_count": null,
   "metadata": {},
   "outputs": [],
   "source": [
    "# create the well package using the DataFrame\n",
    "wel = nlmod.gwf.wells.wel_from_df(wells, gwf, save_flows=True, pname='WEL')"
   ]
  },
  {
   "attachments": {},
   "cell_type": "markdown",
   "metadata": {},
   "source": [
    "### Add river"
   ]
  },
  {
   "cell_type": "code",
   "execution_count": null,
   "metadata": {},
   "outputs": [],
   "source": [
    "xyriv = [\n",
    "    (250, -500),\n",
    "    (300, -300),\n",
    "    (275, 0),\n",
    "    (200, 250),\n",
    "    (175, 500),\n",
    "]\n",
    "\n",
    "riv_layer = 0  # add to first layer\n",
    "\n",
    "bed_resistance = 0.1  # days\n",
    "riv_cond = dx * dy / bed_resistance  # conductance\n",
    "riv_stage = 1.0  # m NAP\n",
    "riv_botm = -3.0  # m NAP\n",
    "\n",
    "riv_data = nlmod.gwf.surface_water.rivdata_from_xylist(\n",
    "    gwf, xyriv, riv_layer, riv_stage, riv_cond, riv_botm\n",
    ")"
   ]
  },
  {
   "cell_type": "code",
   "execution_count": null,
   "metadata": {},
   "outputs": [],
   "source": [
    "riv = fp.mf6.ModflowGwfriv(gwf, stress_period_data={0: riv_data}, \n",
    "                           save_flows=True, pname='RIV')"
   ]
  },
  {
   "attachments": {},
   "cell_type": "markdown",
   "metadata": {},
   "source": [
    "### Write and run Simulation"
   ]
  },
  {
   "cell_type": "code",
   "execution_count": null,
   "metadata": {},
   "outputs": [],
   "source": [
    "nlmod.sim.write_and_run(sim, ds)"
   ]
  },
  {
   "attachments": {},
   "cell_type": "markdown",
   "metadata": {},
   "source": [
    "### Load heads"
   ]
  },
  {
   "cell_type": "code",
   "execution_count": null,
   "metadata": {},
   "outputs": [],
   "source": [
    "ds['heads'] = nlmod.gwf.get_heads_da(ds)"
   ]
  },
  {
   "attachments": {},
   "cell_type": "markdown",
   "metadata": {},
   "source": [
    "### Plot heads"
   ]
  },
  {
   "cell_type": "code",
   "execution_count": null,
   "metadata": {},
   "outputs": [],
   "source": [
    "fig, ax = plt.subplots(1, 1, figsize=(10, 8))\n",
    "\n",
    "pc = nlmod.plot.data_array(\n",
    "    ds['heads'].sel(layer=1).isel(time=0),\n",
    "    ds=ds,\n",
    "    cmap=\"RdYlBu\",\n",
    "    ax=ax,\n",
    "    edgecolor=\"k\",\n",
    ")\n",
    "ax.axis(extent)\n",
    "cbar = ax.figure.colorbar(pc, shrink=1.0)\n",
    "cbar.set_label(\"head [m NAP]\")\n",
    "ax.set_title(\"head layer 1\")\n",
    "fig.tight_layout()"
   ]
  },
  {
   "attachments": {},
   "cell_type": "markdown",
   "metadata": {},
   "source": [
    "## Exercises"
   ]
  },
  {
   "attachments": {},
   "cell_type": "markdown",
   "metadata": {},
   "source": [
    "#### Exercise 1\n",
    "\n",
    "In the plot above the heads in model layer 1 are plotted. Make 2 other plots with:\n",
    "1. The heads in model layer 2 \n",
    "2. The differences in heads between model layer 1 and 2\n",
    "\n",
    "Please explain the differences in heads between these layers."
   ]
  },
  {
   "cell_type": "code",
   "execution_count": null,
   "metadata": {},
   "outputs": [],
   "source": []
  },
  {
   "attachments": {},
   "cell_type": "markdown",
   "metadata": {},
   "source": [
    "#### Exercise 2\n",
    "\n",
    "We used the function `nlmod.gwf.get_heads_da` to obtain the modelled heads. Now use the function `nlmod.gwf.get_budget_da` to obatin the flux (budget) of the river package. This data shows how much water infiltrates from the river to the groundwater.\n",
    "1. Plot the river budget of the first model layer. Explain what you see\n",
    "2. Calculate the total infiltration from the river to the groundwater.\n",
    "3. What other fluxes do you expect in this model? How big are they? Can you explain the differences in these fluxes?"
   ]
  },
  {
   "cell_type": "code",
   "execution_count": null,
   "metadata": {},
   "outputs": [],
   "source": []
  },
  {
   "attachments": {},
   "cell_type": "markdown",
   "metadata": {},
   "source": [
    "#### Exercise 3\n",
    "\n",
    "Add a constant recharge of 0.7 mm/day to the model using the recharge package. You can use this flopy function: `flopy.mf6.ModflowGwfrch`. Plot the heads and compare this with the previous heads. What differences do you see? "
   ]
  },
  {
   "cell_type": "code",
   "execution_count": null,
   "metadata": {},
   "outputs": [],
   "source": []
  },
  {
   "attachments": {},
   "cell_type": "markdown",
   "metadata": {},
   "source": [
    "#### Exercise 4\n",
    "\n",
    "By setting the `time` coordinates of the model dataset `ds` you can make the model transient. Modify the function `nlmod.time.set_ds_time` to create a transient model with 30 time steps of one day. Have a look at this example model to see how to set the transient time steps: https://nlmod.readthedocs.io/en/stable/examples/03_local_grid_refinement.html\n",
    "\n",
    "After you've done that change the well extraction rate. Start with the extraction rates as before. After 5 days set the extraction rates to zero. Plot the groundwater head over at a distance of 20, 40 and 100 meters from both extraction wells."
   ]
  },
  {
   "cell_type": "code",
   "execution_count": null,
   "metadata": {},
   "outputs": [],
   "source": []
  }
 ],
 "metadata": {
  "kernelspec": {
   "display_name": "Python 3 (ipykernel)",
   "language": "python",
   "name": "python3"
  },
  "language_info": {
   "codemirror_mode": {
    "name": "ipython",
    "version": 3
   },
   "file_extension": ".py",
   "mimetype": "text/x-python",
   "name": "python",
   "nbconvert_exporter": "python",
   "pygments_lexer": "ipython3",
   "version": "3.9.4"
  }
 },
 "nbformat": 4,
 "nbformat_minor": 4
}
