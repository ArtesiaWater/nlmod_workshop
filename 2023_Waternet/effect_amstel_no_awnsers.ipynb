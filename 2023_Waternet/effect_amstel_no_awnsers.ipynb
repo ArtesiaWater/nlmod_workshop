{
 "cells": [
  {
   "cell_type": "markdown",
   "id": "305f1388",
   "metadata": {},
   "source": [
    "# Bepaal het effect van een stijging van het peil van de Amstel\n",
    "Dit notebook berekent het effect van een stijging van het peil van Amstel. Voor een gebied van 4 bij 3 km lezen we data in, zetten dit om naar modelinvoer en rekenen een tijdsafhankelijk grondwatermodel voor enkele jaren door.\n",
    "\n",
    "Het notebook is slechts ter illustratie van de mogelijkheden van nlmod. Hoewel er gerekend wordt met echte data voor de ondergrond en het oppervlaktewater, wordt ontbrekende/onbekende data (bijvoorbeeld de weerstand van de Holocene deklaag, het peil van de Amstel, of de weerstand van het oppervlaktewater) opgevuld met eenvoudige aannames. Het model is op geen enkele manier gecontrolleerd of gekalibreerd, bijvoorbeeld op basis van metingen. Het model geeft de werkelijkheid waarschijnlijk dan ook niet goed weer."
   ]
  },
  {
   "cell_type": "code",
   "execution_count": null,
   "id": "f7ff6205",
   "metadata": {},
   "outputs": [],
   "source": [
    "import os\n",
    "import matplotlib\n",
    "import matplotlib.pyplot as plt\n",
    "import pandas as pd\n",
    "import geopandas as gpd\n",
    "import flopy\n",
    "import nlmod\n",
    "logger = nlmod.util.get_color_logger(\"INFO\");"
   ]
  },
  {
   "cell_type": "code",
   "execution_count": null,
   "id": "748e6072",
   "metadata": {},
   "outputs": [],
   "source": [
    "model_name = \"Amstel\"\n",
    "model_ws = \"amstel\"\n",
    "figdir, cachedir = nlmod.util.get_model_dirs(model_ws)\n",
    "extent = [118_000, 122_000, 473_000, 476_000]\n",
    "line = [(118_000, 474_500), (122_000, 474_500)]\n",
    "time = pd.date_range(\"2020\", \"2023\", freq=\"MS\")  # monthly timestep"
   ]
  },
  {
   "cell_type": "markdown",
   "id": "0c32731c",
   "metadata": {},
   "source": [
    "## Lagenmodel\n",
    "We lezen een lagenmodel in op basis van REGIS."
   ]
  },
  {
   "cell_type": "code",
   "execution_count": null,
   "id": "a0674e03",
   "metadata": {
    "scrolled": false
   },
   "outputs": [],
   "source": [
    "layer_model = nlmod.read.regis.get_combined_layer_models(\n",
    "    extent,\n",
    "    use_regis=True,\n",
    "    use_geotop=False,\n",
    "    cachedir=cachedir,\n",
    "    cachename=\"layer_model.nc\",\n",
    ")\n",
    "layer_model"
   ]
  },
  {
   "cell_type": "markdown",
   "id": "e6ff72bc",
   "metadata": {},
   "source": [
    "Wanneer we het lagenomdel omzetten naar een model Dataset zien we aan de log-berichten dat er geen informatie is over de doorlatendheid van de Holocene deklaag, en dat nlmod deze doorlatendheden opvult met de standaard-waarden van kh=1.0 m/d, en kv=0.1 m/d."
   ]
  },
  {
   "cell_type": "code",
   "execution_count": null,
   "id": "3e311dbf",
   "metadata": {},
   "outputs": [],
   "source": [
    "ds = nlmod.to_model_ds(layer_model, model_name, model_ws, delr=50.0)\n",
    "ds = nlmod.time.set_ds_time(ds, time=time)"
   ]
  },
  {
   "cell_type": "markdown",
   "id": "869fd475",
   "metadata": {},
   "source": [
    "We kunnen het lagenmodel weergeven in een (eerder gedefinieerde) doorsnede van west naar oost. De dikte van de Holocene deklaag bedraagt ongeveer 10 meter in deze doorsnede."
   ]
  },
  {
   "cell_type": "code",
   "execution_count": null,
   "id": "87d7c3e2",
   "metadata": {},
   "outputs": [],
   "source": [
    "f, ax = plt.subplots(figsize=(13, 5))\n",
    "dcs = nlmod.plot.DatasetCrossSection(ds, line, ax=ax, zmin=-100)\n",
    "colors = nlmod.read.regis.get_legend()['color'].to_dict()\n",
    "for layer in ds.layer.data:\n",
    "    if layer not in colors:\n",
    "        colors[layer] = colors['HLc']\n",
    "dcs.plot_layers(colors=colors, min_label_area=1000.0)\n",
    "dcs.plot_grid(vertical=False);"
   ]
  },
  {
   "cell_type": "markdown",
   "id": "6e4cb8fd",
   "metadata": {},
   "source": [
    "Oefening 1: geef de hozizontale doorlatendheid (kh) weer in een doorsnede langs dezelfde lijn. Gebruik de methode `dcs.plot_array()` om de variabele 'kh' in ds te tekenen (voeg dus de variabele `ds[\"kh\"]` toe als eerste argument aan `dcs.plot_array()`)."
   ]
  },
  {
   "cell_type": "code",
   "execution_count": null,
   "id": "c533d2b1",
   "metadata": {},
   "outputs": [],
   "source": []
  },
  {
   "cell_type": "markdown",
   "id": "1460f2ed",
   "metadata": {},
   "source": [
    "Oefening 2: Geef de dikte van de holocene deklaag weer. Bereken de dikte van de lagen met behlp van de methode `nlmod.layers.calculate_thickness(ds)` en selecteer de eerste laag (`\"HLc\"`) uit de resulterde DataArray met behulp van `da.loc[]`."
   ]
  },
  {
   "cell_type": "code",
   "execution_count": null,
   "id": "86e3e896",
   "metadata": {},
   "outputs": [],
   "source": []
  },
  {
   "cell_type": "markdown",
   "id": "9314f563",
   "metadata": {},
   "source": [
    "## Download oppervlaktewaterdata\n",
    "We downloaden de locatie van het oppervlaktewater uit de BasisRegistratie Grootschalige Topografie (BGT), en peilgebieden van de in het modelgebied liggende waterschappen (in dit geval alleen van Waterschap Amstel Gooi en Vecht). Om deze webservces niet te overbelasten, slaan we het resultaat op in een bestand genaamd `bgt.geojson`, zodat we dit slechts één keer doen."
   ]
  },
  {
   "cell_type": "code",
   "execution_count": null,
   "id": "92a95aa0",
   "metadata": {},
   "outputs": [],
   "source": [
    "fname = os.path.join(cachedir, 'bgt.geojson')\n",
    "if not os.path.isfile(fname):\n",
    "    bgt = nlmod.read.bgt.get_bgt(extent)\n",
    "    la = nlmod.gwf.surface_water.download_level_areas(bgt, extent=extent, raise_exceptions=False)\n",
    "    bgt = nlmod.gwf.surface_water.add_stages_from_waterboards(bgt, la=la)\n",
    "    bgt.to_file(fname, driver=\"GeoJSON\")\n",
    "else:\n",
    "    logger.info('using cached data -> bgt.geojson')\n",
    "bgt = gpd.read_file(fname)"
   ]
  },
  {
   "cell_type": "markdown",
   "id": "c6e68a2b",
   "metadata": {},
   "source": [
    "Het resulterende object is een zogenaamd GeoDataFrame, waarbij elke rij een watervalk voorstelt. Het zomerpeil ('summer_stage') en winterpeil ('winter_stage') zijn afgeleid uit de peilgebieden-data en als extra kolommen door nlmod aan de bgt-data toegevoegd."
   ]
  },
  {
   "cell_type": "code",
   "execution_count": null,
   "id": "86c92e66",
   "metadata": {},
   "outputs": [],
   "source": [
    "bgt"
   ]
  },
  {
   "cell_type": "markdown",
   "id": "4905560d",
   "metadata": {},
   "source": [
    "Oefening 3: geef de gedownloade polygonen van het oppervlaktewater weer. Maak een kaart aan met de functie `f, ax = nlmod.plot.get_map(extent)` en plot het oppervlaktewater met `bgt.plot(ax=ax)`."
   ]
  },
  {
   "cell_type": "code",
   "execution_count": null,
   "id": "547d3515",
   "metadata": {},
   "outputs": [],
   "source": []
  },
  {
   "cell_type": "markdown",
   "id": "6620b7b0",
   "metadata": {},
   "source": [
    "Oefening 4: Geef de bronhouder weer van de data. Voeg `\"bronhouder\"` toe als eerste argument aan `bgt.plot()` en geef een legenda weer door een extra argument `legend=True` mee te geven."
   ]
  },
  {
   "cell_type": "code",
   "execution_count": null,
   "id": "c4c5ddce",
   "metadata": {},
   "outputs": [],
   "source": []
  },
  {
   "cell_type": "markdown",
   "id": "3b6546fc",
   "metadata": {},
   "source": [
    "Uit deze figuur is te zien dat 'W0155' de brondhouder is van de meeste waterlopen in dit gebied: Waterschap Amstel, Gooi en Vecht. De Amstel zelf heeft als bronhouder de provincie Noord-Holland."
   ]
  },
  {
   "cell_type": "markdown",
   "id": "fc68e957",
   "metadata": {},
   "source": [
    "Een belangrijke invoer voor het grondwatermodel is het zomerpeil en het winterpeil. Deze geven we ruimtelijk weer."
   ]
  },
  {
   "cell_type": "code",
   "execution_count": null,
   "id": "e9b5666c",
   "metadata": {},
   "outputs": [],
   "source": [
    "f, axes = nlmod.plot.get_map(extent, ncols=2)\n",
    "norm = matplotlib.colors.Normalize(-7.0, -2.0)\n",
    "cmap = 'turbo_r'\n",
    "\n",
    "bgt.plot(color='k', ax=axes[0])\n",
    "bgt.plot('summer_stage', ax=axes[0], norm=norm, cmap=cmap)\n",
    "nlmod.plot.title_inside('Zomerpeil', ax=axes[0])\n",
    "\n",
    "bgt.plot(color='k', ax=axes[1])\n",
    "bgt.plot('winter_stage', ax=axes[1], norm=norm, cmap=cmap)\n",
    "nlmod.plot.colorbar_inside(cmap=cmap, norm=norm)\n",
    "nlmod.plot.title_inside('Winterpeil', ax=axes[1]);"
   ]
  },
  {
   "cell_type": "markdown",
   "id": "d468c81b",
   "metadata": {},
   "source": [
    "Locaties die zwart blijven in beide figuren vallen niet in een peilgebied, en krijgen dan ook geen zomer- of winterpeil toegekend. Dit zijn de Amstel zelf en de aangrenzende waterloop: de Oude Waver. Voor de Amstel geven we later in dit notebook een handmatig peil op. Voor de Oude Waver laten we de peilen leeg, waardoor deze genegeerd wordt bij het aanmaken van de oppervlaktewater-invoer van het model (zie ook de log-berichten later in dit notebook).\n",
    "\n",
    "In het noordoosten van het gebied zijn enkele locaties zonder winterpeil, waar wel een zomerpeil gedefinieerd is (wellicht veroorzaakt door een fout bij de interpretatie van de waterschapsdata door nlmod). Daarom vullen we ontbrekende waarden van het winterpeil in door het zomerpeil. De resterende ontbrekende peilen bestaan dan uit de Oude Waver. "
   ]
  },
  {
   "cell_type": "code",
   "execution_count": null,
   "id": "d40ec36b",
   "metadata": {},
   "outputs": [],
   "source": [
    "mask = bgt[\"winter_stage\"].isna()\n",
    "bgt.loc[mask, \"winter_stage\"] = bgt.loc[mask, \"summer_stage\"]"
   ]
  },
  {
   "cell_type": "markdown",
   "id": "393229a8",
   "metadata": {},
   "source": [
    "## Download neerslag en verdamping\n",
    "We downloaden neerslag en verdamping van het KNMI en berekenen hieruit de grondwateraanvulling (het neerslagoverschot) in elke tijdstap, en voegen dit toe aan de modeldataset met de vraiabele `\"recharge\"'."
   ]
  },
  {
   "cell_type": "code",
   "execution_count": null,
   "id": "bdd907d1",
   "metadata": {},
   "outputs": [],
   "source": [
    "knmi_ds = nlmod.read.knmi.get_recharge(ds, cachedir=cachedir, cachename=\"recharge.nc\")\n",
    "ds.update(knmi_ds)"
   ]
  },
  {
   "cell_type": "markdown",
   "id": "b874f5ef",
   "metadata": {},
   "source": [
    "## Maak een Modflow 6 simulation\n",
    "We genereren een Modflow 6 simulation (sim) en groundwater flow (gwf) model voor flopy aan."
   ]
  },
  {
   "cell_type": "code",
   "execution_count": null,
   "id": "eb47aa77",
   "metadata": {},
   "outputs": [],
   "source": [
    "# create simulation\n",
    "sim = nlmod.sim.sim(ds)\n",
    "\n",
    "# create time discretisation\n",
    "tdis = nlmod.sim.tdis(ds, sim)\n",
    "\n",
    "# create ims\n",
    "ims = nlmod.sim.ims(sim, complexity='moderate')\n",
    "\n",
    "# create groundwater flow model\n",
    "gwf = nlmod.gwf.gwf(ds, sim)\n",
    "\n",
    "# Create discretization\n",
    "dis = nlmod.gwf.dis(ds, gwf)\n",
    "\n",
    "# create node property flow\n",
    "npf = nlmod.gwf.npf(ds, gwf, save_flows=True)\n",
    "\n",
    "# Create the initial conditions package\n",
    "ic = nlmod.gwf.ic(ds, gwf, starting_head=0.0)\n",
    "\n",
    "# Create the output control package\n",
    "oc = nlmod.gwf.oc(ds, gwf)\n",
    "\n",
    "# create storage package\n",
    "sto = nlmod.gwf.sto(ds, gwf)\n",
    "\n",
    "# create recharge package\n",
    "rch = nlmod.gwf.rch(ds, gwf)"
   ]
  },
  {
   "cell_type": "markdown",
   "id": "a0754dfe",
   "metadata": {},
   "source": [
    "## Verwerken oppervlaktewater\n",
    "We vergridden de oppervlaktewater-vlakken, bereknen de conductane, en splitsen de Amstel van de andere vlakken."
   ]
  },
  {
   "cell_type": "code",
   "execution_count": null,
   "id": "b41ff7c6",
   "metadata": {},
   "outputs": [],
   "source": [
    "bgt_grid = nlmod.grid.gdf_to_grid(bgt, ds).set_index(\"cellid\")\n",
    "\n",
    "bed_resistance = 1.0\n",
    "bgt_grid[\"cond\"] = bgt_grid.area / bed_resistance\n",
    "\n",
    "# handle the Amstel as a river\n",
    "mask = bgt_grid[\"bronhouder\"] == \"P0027\"\n",
    "amstel = bgt_grid[mask]\n",
    "bgt_grid = bgt_grid[~mask]\n",
    "\n",
    "# we remove other surface water features in the same cell as the river Amstel\n",
    "bgt_grid = bgt_grid[~bgt_grid.index.isin(amstel.index)]"
   ]
  },
  {
   "cell_type": "markdown",
   "id": "044de084",
   "metadata": {},
   "source": [
    "## Voeg de Amstel toe via de RIV-package\n",
    "We voegen de Amstel toe aan het model via de River-package, wat betekent dat deze ook kan infiltreren."
   ]
  },
  {
   "cell_type": "code",
   "execution_count": null,
   "id": "721a6f00",
   "metadata": {},
   "outputs": [],
   "source": [
    "amstel[\"stage\"] = -0.4\n",
    "amstel[\"rbot\"] = -3.0\n",
    "spd = nlmod.gwf.surface_water.build_spd(amstel, \"RIV\", ds)\n",
    "riv = flopy.mf6.ModflowGwfriv(gwf, stress_period_data={0: spd})"
   ]
  },
  {
   "cell_type": "markdown",
   "id": "401b5449",
   "metadata": {},
   "source": [
    "## Voeg het overige oppervlaketwater toe via de DRN-package\n",
    "We voegen al het overige oppervlaktewater toe als drains, wat betekent dat deze in het model niet kunnen infiltreren."
   ]
  },
  {
   "cell_type": "code",
   "execution_count": null,
   "id": "201fe791",
   "metadata": {},
   "outputs": [],
   "source": [
    "drn = nlmod.gwf.surface_water.gdf_to_seasonal_pkg(bgt_grid, gwf, ds, save_flows=True);"
   ]
  },
  {
   "cell_type": "markdown",
   "id": "b4404b83",
   "metadata": {},
   "source": [
    "## Voer het model uit en lees uitvoer in"
   ]
  },
  {
   "cell_type": "code",
   "execution_count": null,
   "id": "cec94d08",
   "metadata": {},
   "outputs": [],
   "source": [
    "nlmod.sim.write_and_run(sim, ds)"
   ]
  },
  {
   "cell_type": "markdown",
   "id": "984f1091",
   "metadata": {},
   "source": [
    "We lezen de stijghoogtes en het drainage-debiet in, naar variabelen met namen die eindigen op \"0\" (ter onderscheid van een volgende berekening)."
   ]
  },
  {
   "cell_type": "code",
   "execution_count": null,
   "id": "f0123c86",
   "metadata": {},
   "outputs": [],
   "source": [
    "head0 = nlmod.gwf.output.get_heads_da(ds)\n",
    "# Get the groundwater level, which is the head in the upper active layer (not all layers are present everywhere)\n",
    "gws0 = nlmod.gwf.output.get_gwl_from_wet_cells(head0)\n",
    "q_drn0 = nlmod.gwf.output.get_budget_da('DRN', ds=ds)"
   ]
  },
  {
   "cell_type": "markdown",
   "id": "6ef3ce60",
   "metadata": {},
   "source": [
    "## Teken de gemiddelde grondwaterstand\n",
    "We geven de gemiddelde grondwaterstand in het model weer. Ook geven we een punt weer waar we straks een tijd-grafiek gaan weergeven"
   ]
  },
  {
   "cell_type": "code",
   "execution_count": null,
   "id": "d4c4e39f",
   "metadata": {},
   "outputs": [],
   "source": [
    "f, ax = nlmod.plot.get_map(extent)\n",
    "pc = nlmod.plot.data_array(gws0.mean(\"time\"), ds=ds)\n",
    "cbar = nlmod.plot.colorbar_inside(pc)\n",
    "bgt.plot(ax=ax, edgecolor=\"k\", facecolor=\"none\")\n",
    "xp = 120300\n",
    "yp = 474500\n",
    "ax.plot(xp, yp, marker='x', color='r');"
   ]
  },
  {
   "cell_type": "markdown",
   "id": "549134dd",
   "metadata": {},
   "source": [
    "Geef de stijghoogte in de tijd weer in de verschillende lagen bij het hiervoor gedefinieerde punt, aangegeven met een rood kruisje in voorgaande figuur."
   ]
  },
  {
   "cell_type": "code",
   "execution_count": null,
   "id": "f2b7a074",
   "metadata": {},
   "outputs": [],
   "source": [
    "head_point = nlmod.gwf.get_head_at_point(head0, x=xp, y=yp, ds=ds).to_pandas()\n",
    "ax = head_point.plot(figsize=(13,8))\n",
    "ax.figure.tight_layout(pad=0.0)"
   ]
  },
  {
   "cell_type": "markdown",
   "id": "6f1aebda",
   "metadata": {},
   "source": [
    "Oefening 5: Geef het gemiddelde drainage-debiet van elke modelcel weer. Bereken hiertoe het drainagedebiet in mm/d, via de methode `da = -q_drn0.sum('layer') / ds['area'] * 1000`. Kijk hoe de grondwaterstand eerder werd getekend, en vervang `gws0` door `da`. En mooie kleurenschaal (`cmap`) voor deze data is `\"Blues\"`. Vieg daarom het extra argument `cmap=\"Blues\"` toe aan `nlmod.plot.data_array()`."
   ]
  },
  {
   "cell_type": "code",
   "execution_count": null,
   "id": "909489f9",
   "metadata": {},
   "outputs": [],
   "source": []
  },
  {
   "cell_type": "markdown",
   "id": "c8a12b45",
   "metadata": {},
   "source": [
    "## Reken het model nogmaals door met een hoger peil van de Amstel\n",
    "We willen nu weten wat de invloed is van een hoger peil van de Amstel. Daarom zetten we het peil ('stage') van de Amstel 1 meter hoger, van -0.4 naar 0.6 m NAP, en rekenen het model opnieuw door."
   ]
  },
  {
   "cell_type": "code",
   "execution_count": null,
   "id": "8c29fa33",
   "metadata": {},
   "outputs": [],
   "source": [
    "# remove the current RIV-package\n",
    "gwf.remove_package('RIV')\n",
    "# set the stage of the Amstel\n",
    "amstel[\"stage\"] = 0.6\n",
    "# generate a new riv package\n",
    "spd = nlmod.gwf.surface_water.build_spd(amstel, \"RIV\", ds)\n",
    "riv = flopy.mf6.ModflowGwfriv(gwf, stress_period_data={0: spd})\n",
    "# run the model again\n",
    "nlmod.sim.write_and_run(sim, ds)"
   ]
  },
  {
   "cell_type": "markdown",
   "id": "1fbaebd3",
   "metadata": {},
   "source": [
    "We lezen de uitvoer van model opnieuw in, naar variabelen met namen die eindigen op \"1\"."
   ]
  },
  {
   "cell_type": "code",
   "execution_count": null,
   "id": "512bbd1e",
   "metadata": {},
   "outputs": [],
   "source": [
    "head1 = nlmod.gwf.output.get_heads_da(ds)\n",
    "gws1 = nlmod.gwf.output.get_gwl_from_wet_cells(head1)\n",
    "q_drn1 = nlmod.gwf.output.get_budget_da('DRN', ds=ds)"
   ]
  },
  {
   "cell_type": "markdown",
   "id": "17b634d7",
   "metadata": {},
   "source": [
    "## Geef het verschil in grondwaterstand tussen de twee modelsimulaties weer"
   ]
  },
  {
   "cell_type": "code",
   "execution_count": null,
   "id": "5d4c94eb",
   "metadata": {},
   "outputs": [],
   "source": [
    "f, ax = nlmod.plot.get_map(extent)\n",
    "dgws = gws1 - gws0\n",
    "pc = nlmod.plot.data_array(dgws.mean(\"time\"), ds=ds, vmin=0, vmax=1.0, cmap='magma_r')\n",
    "cbar = nlmod.plot.colorbar_inside(pc)\n",
    "bgt.plot(ax=ax, edgecolor=\"k\", facecolor=\"none\");"
   ]
  },
  {
   "cell_type": "markdown",
   "id": "665affda",
   "metadata": {},
   "source": [
    "Het effect in de polders is dus minimaal. Wellicht neemt het drainagedebiet in de buurt van de Amstel wel toe?"
   ]
  },
  {
   "cell_type": "markdown",
   "id": "bf18af20",
   "metadata": {},
   "source": [
    "Oefening 6: geef de toename van het drainagedebiet weer in mm/d."
   ]
  },
  {
   "cell_type": "code",
   "execution_count": null,
   "id": "db845b6f",
   "metadata": {},
   "outputs": [],
   "source": []
  },
  {
   "cell_type": "markdown",
   "id": "7ee3a8c3",
   "metadata": {},
   "source": [
    "## Extra oefeningen\n",
    "Snel klaar? Niet getreurd, met onderstaande oefeningen kan je de rest van de middag vullen."
   ]
  },
  {
   "cell_type": "markdown",
   "id": "8ed76e5c",
   "metadata": {},
   "source": [
    "Oefening 7: Voeg gridverfijing toe rond de rivier de Amstel, door de celgrootte hier te halveren. Voeg de functie `nlmod.grid.refine()` toe na `nlmod.to_model_ds()`. Zie het notebook https://nlmod.readthedocs.io/en/stable/examples/09_schoonhoven.html voor een voorbeeld van de argumenten voor deze functie."
   ]
  },
  {
   "cell_type": "markdown",
   "id": "8dc90e6d",
   "metadata": {},
   "source": [
    "Oefening 8: de bovenzijde van het model is de Holocece deklaag (HLc), waarvoor REGIS geen doorlatendheid geeft. Daarom wordt kh op een standaardwaarde van 1.0 m/d en kv op 0.1 m/d gezet (zie de log-berichten na `nlmod.to_model_ds()`). We kunnen GeoTOP gebruiken om een betere schatting te krijgen voor deze doorlatendheden. Verander een argument in `nlmod.read.regis.get_combined_layer_models()` en herbereken het effect van een toename van het peil van Amstel met 1 meter. Omdat de GeoTOP-data meer variatie heeft, met hoge en lage doorlatendheden dichtbij elkaar, heeft het model moeite om te convergeren. Verander het `complexity` argument in `nlmod.sim.ims()` naar `\"complex\"`, zodat het model wel weer convergeert."
   ]
  }
 ],
 "metadata": {
  "kernelspec": {
   "display_name": "Python 3 (ipykernel)",
   "language": "python",
   "name": "python3"
  },
  "language_info": {
   "codemirror_mode": {
    "name": "ipython",
    "version": 3
   },
   "file_extension": ".py",
   "mimetype": "text/x-python",
   "name": "python",
   "nbconvert_exporter": "python",
   "pygments_lexer": "ipython3",
   "version": "3.9.7"
  }
 },
 "nbformat": 4,
 "nbformat_minor": 5
}
