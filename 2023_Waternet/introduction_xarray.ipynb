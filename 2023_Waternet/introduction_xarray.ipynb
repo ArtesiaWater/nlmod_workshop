{
 "cells": [
  {
   "cell_type": "markdown",
   "metadata": {},
   "source": [
    "# Introductie `xarray`\n",
    "\n",
    "Deze notebook bevat een korte introductie van `xarray` de package waarmee we de data die we in `nlmod` bewerken wordt opgeslagen en beheerd.\n",
    "\n",
    "De volgende onderwerpen komen aan bod:\n",
    "\n",
    "- de twee basis data structuren in xarray: `Dataset` en `DataArray`\n",
    "- hoe je interacteert met of bewerkingen doet op die data structuren\n",
    "- visualisatie van de data\n",
    "- wegschrijven en inlezen van data\n",
    "\n",
    "Aan het einde van het notebook is een kleine opdracht opgenomen.\n",
    "\n",
    "De eerste stap is het importeren van de packages. We importeren hier ook nlmod voor het ophalen van onze voorbeeld dataset."
   ]
  },
  {
   "cell_type": "code",
   "execution_count": null,
   "metadata": {},
   "outputs": [],
   "source": [
    "import nlmod\n",
    "import xarray as xr\n",
    "import numpy as np"
   ]
  },
  {
   "cell_type": "markdown",
   "metadata": {},
   "source": [
    "Als voorbeeld gebruiken we REGIS data die we binnen een stukje van Nederland ophalen. De functie `get_regis()` van `nlmod` haalt REGIS op als `xarray.Dataset`."
   ]
  },
  {
   "cell_type": "code",
   "execution_count": null,
   "metadata": {},
   "outputs": [],
   "source": [
    "# voorbeeld dataset is REGIS binnen een stukje van NL\n",
    "extent = [118_000, 122_000, 473_000, 476_000]\n",
    "ds = nlmod.read.get_regis(extent)"
   ]
  },
  {
   "cell_type": "markdown",
   "metadata": {},
   "source": [
    "Waternet optie:"
   ]
  },
  {
   "cell_type": "code",
   "execution_count": null,
   "metadata": {},
   "outputs": [],
   "source": [
    "ds = xr.open_dataset(\"regis.nc\")"
   ]
  },
  {
   "cell_type": "markdown",
   "metadata": {},
   "source": [
    "## `xarray` data structuren"
   ]
  },
  {
   "cell_type": "markdown",
   "metadata": {},
   "source": [
    "Een `Dataset` is een soort dictionary met daarin zogenaamde `DataArrays` die ieder een eigen label (key) hebben. `Datasets` hebben een html-weergave waardoor we de inhoud in een notebook handig kunnen bekijken:"
   ]
  },
  {
   "cell_type": "code",
   "execution_count": null,
   "metadata": {},
   "outputs": [],
   "source": [
    "ds"
   ]
  },
  {
   "cell_type": "markdown",
   "metadata": {},
   "source": [
    "We kunnen de `top` `DataArray` bekijken door deze uit de `Dataset` op te vragen net als in een dictionary:"
   ]
  },
  {
   "cell_type": "code",
   "execution_count": null,
   "metadata": {},
   "outputs": [],
   "source": [
    "ds[\"top\"]"
   ]
  },
  {
   "cell_type": "markdown",
   "metadata": {},
   "source": [
    "Een `DataArray` is eigenlijk een array met gelabelde dimensies en metadata. De eerste dimensie van de `top` is dus het laagnummer en de volgende twee dimensies zijn de `y` en `x` data.\n",
    "\n",
    "De metadata staat opgeslagen onder de attributes, en daar staat bijvoorbeeld in dat de eenheid van de data meters NAP is."
   ]
  },
  {
   "cell_type": "code",
   "execution_count": null,
   "metadata": {},
   "outputs": [],
   "source": [
    "top = ds['top']\n",
    "top.dims  # labels van de dimensies"
   ]
  },
  {
   "cell_type": "code",
   "execution_count": null,
   "metadata": {},
   "outputs": [],
   "source": [
    "# metadata, opgeslagen onder .attrs\n",
    "top.attrs[\"units\"]"
   ]
  },
  {
   "cell_type": "markdown",
   "metadata": {},
   "source": [
    "De ruimtelijke informatie (in dit geval) over de dimensies wordt opgeslagen onder `.coords`"
   ]
  },
  {
   "cell_type": "code",
   "execution_count": null,
   "metadata": {},
   "outputs": [],
   "source": [
    "top.coords"
   ]
  },
  {
   "cell_type": "markdown",
   "metadata": {},
   "source": [
    "Het ophalen van de data werkt eigenlijk het zelfde als voor de data variabelen zoals \"top\":"
   ]
  },
  {
   "cell_type": "code",
   "execution_count": null,
   "metadata": {},
   "outputs": [],
   "source": [
    "top[\"x\"]"
   ]
  },
  {
   "cell_type": "markdown",
   "metadata": {},
   "source": [
    "Elke `DataArray` is eigenlijk een numpy.array met daaroverheen extra data. Om de numpy array op te halen gebruik je `.data`"
   ]
  },
  {
   "cell_type": "code",
   "execution_count": null,
   "metadata": {},
   "outputs": [],
   "source": [
    "top.data"
   ]
  },
  {
   "cell_type": "markdown",
   "metadata": {},
   "source": [
    "## Indexing (selecteren) van data \n",
    "\n",
    "Maar wat kunnen we nu met deze `xarray` data structuren? Een handige toepassing is het selecteren van data op basis van een label of op basis van een index.\n",
    "\n",
    "Het selecteren van data op basis van een index doe je met `.isel()`. Om de top van de bovenste laag te selecteren:"
   ]
  },
  {
   "cell_type": "code",
   "execution_count": null,
   "metadata": {},
   "outputs": [],
   "source": [
    "top.isel(layer=0)"
   ]
  },
  {
   "cell_type": "markdown",
   "metadata": {},
   "source": [
    "Maar dat kan ook op basis van de naam de laag. Dat heet label-based indexing en doe je met `.sel()`:"
   ]
  },
  {
   "cell_type": "code",
   "execution_count": null,
   "metadata": {},
   "outputs": [],
   "source": [
    "top.sel(layer='HLc')"
   ]
  },
  {
   "cell_type": "markdown",
   "metadata": {},
   "source": [
    "Als je meerdere lagen tegelijk wilt selecteren kan dat met `slice()`:"
   ]
  },
  {
   "cell_type": "code",
   "execution_count": null,
   "metadata": {},
   "outputs": [],
   "source": [
    "# selecteren van Holoceen tot en met 3de zandlaag van formatie van Kreftenheye\n",
    "top.sel(layer=slice(\"HLc\", \"KRz3\"))"
   ]
  },
  {
   "cell_type": "markdown",
   "metadata": {},
   "source": [
    "We kunnen ook de laagindeling op een specifieke plek opvragen:"
   ]
  },
  {
   "cell_type": "code",
   "execution_count": null,
   "metadata": {},
   "outputs": [],
   "source": [
    "top.sel(x=118_350, y=474_850) # .to_pandas()"
   ]
  },
  {
   "cell_type": "markdown",
   "metadata": {},
   "source": [
    "En als we gewoon een coordinaat willen intypen en de dichtstbijzijnde informatie willen opvragen gebruiken we `method=\"nearest\"`:"
   ]
  },
  {
   "cell_type": "code",
   "execution_count": null,
   "metadata": {},
   "outputs": [],
   "source": [
    "top.sel(x=118_412, y=474_911, method=\"nearest\")"
   ]
  },
  {
   "cell_type": "markdown",
   "metadata": {},
   "source": [
    "## Visualisatie\n",
    "\n",
    "`xarray` bevat ook functionaliteit voor het visualiseren van data:"
   ]
  },
  {
   "cell_type": "code",
   "execution_count": null,
   "metadata": {},
   "outputs": [],
   "source": [
    "top.sel(layer=\"HLc\").plot();"
   ]
  },
  {
   "cell_type": "markdown",
   "metadata": {},
   "source": [
    "Als we eens doorsnede selecteren en plotten kunnen we zien waar welke laag voorkomt:"
   ]
  },
  {
   "cell_type": "code",
   "execution_count": null,
   "metadata": {},
   "outputs": [],
   "source": [
    "top.sel(y=474_911, method='nearest').plot();"
   ]
  },
  {
   "cell_type": "markdown",
   "metadata": {},
   "source": [
    "Of we kunnen de bovenkant van de lagen als lijn plotten:"
   ]
  },
  {
   "cell_type": "code",
   "execution_count": null,
   "metadata": {},
   "outputs": [],
   "source": [
    "top.sel(y=474_911, method='nearest').plot.line(x=\"x\");"
   ]
  },
  {
   "cell_type": "markdown",
   "metadata": {},
   "source": [
    "We kunnen ook het bovenaanzicht van meerdere lagen tegelijk plotten:"
   ]
  },
  {
   "cell_type": "code",
   "execution_count": null,
   "metadata": {},
   "outputs": [],
   "source": [
    "top.sel(layer=slice(\"HLc\", \"KRz3\")).plot(col=\"layer\", col_wrap=2)"
   ]
  },
  {
   "cell_type": "markdown",
   "metadata": {},
   "source": [
    "## Berekeningen\n",
    "\n",
    "`xarray.DataArrays` werken verder heel vergelijkbaar als `numpy.arrays`. Je kan dus numpy functies toepassen op xarray objecten, maar xarray bevat zelf ook functies om berekeningen uit te voeren.\n",
    "\n",
    "Bijvoorbeeld het gemiddelde niveau uitrekenen van de bovenste modellaag:"
   ]
  },
  {
   "cell_type": "code",
   "execution_count": null,
   "metadata": {},
   "outputs": [],
   "source": [
    "top.sel(layer=\"HLc\").mean()"
   ]
  },
  {
   "cell_type": "code",
   "execution_count": null,
   "metadata": {},
   "outputs": [],
   "source": [
    "# hier komt hetzelfde uit\n",
    "np.nanmean(top.sel(layer=\"HLc\"))"
   ]
  },
  {
   "cell_type": "markdown",
   "metadata": {},
   "source": [
    "Het handige aan xarray functies is dat je de naam van de dimensies waarover een operatie wil uitvoeren kan opgeven. Zo kan je dus bijvoorbeeld het gemiddelde diepte van de bovenkant van elke laag berekenen op deze manier:"
   ]
  },
  {
   "cell_type": "code",
   "execution_count": null,
   "metadata": {},
   "outputs": [],
   "source": [
    "top.mean(dim=(\"y\", \"x\"))"
   ]
  },
  {
   "cell_type": "markdown",
   "metadata": {},
   "source": [
    "Ook simpele sommetjes kunnen we uitvoeren met deze data en opslaan in een nieuwe variabele. Bijvoorbeeld het verschil tussen de bovenkant van de eerste en de tweede laag."
   ]
  },
  {
   "cell_type": "code",
   "execution_count": null,
   "metadata": {},
   "outputs": [],
   "source": [
    "thickness = top.isel(layer=0) - ds[\"botm\"].isel(layer=0)\n",
    "thickness"
   ]
  },
  {
   "cell_type": "markdown",
   "metadata": {},
   "source": [
    "## Opslaan en inlezen van data\n",
    "\n",
    "`xarray` data kan je eenvoudig opslaan in NetCDF formaat met de functie `ds.to_netcdf()`"
   ]
  },
  {
   "cell_type": "code",
   "execution_count": null,
   "metadata": {},
   "outputs": [],
   "source": [
    "ds.to_netcdf(\"regis_dit_is_nieuw.nc\")"
   ]
  },
  {
   "cell_type": "markdown",
   "metadata": {},
   "source": [
    "En deze dataset kunnen we ook weer inlezen met `xr.open_dataset()`"
   ]
  },
  {
   "cell_type": "code",
   "execution_count": null,
   "metadata": {},
   "outputs": [],
   "source": [
    "ds2 = xr.open_dataset(\"regis_dit_is_nieuw.nc\")"
   ]
  },
  {
   "cell_type": "markdown",
   "metadata": {},
   "source": [
    "## Opdracht\n",
    "\n",
    "Voer de volgende stappen uit, elke in een eigen code cel:\n",
    "\n",
    "1. Bereken de dikte van alle lagen.\n",
    "2. Bereken de gemiddelde dikte van alle lagen.\n",
    "3. Selecteer de data in het gebied tussen xmin, xmax = (118,050, 120,050) en ymin, ymax = (473_050, 474_950). (Let hierbij op dat de y-data aflopend is, van hoog naar laag!)\n",
    "4. Plot de dikte van de bovenste 4 lagen in bovenaanzicht.\n",
    "5. Sla de dikte, berekend in stap 1, op als NetCDF bestand.\n",
    "6. Lees dit bestand weer in en laat zien dat de het verschil in dikte van de bovenste laag tussen het ingelezen bestand en die uit stap 1 overal 0.0 is. "
   ]
  }
 ],
 "metadata": {
  "kernelspec": {
   "display_name": "Python 3 (ipykernel)",
   "language": "python",
   "name": "python3"
  },
  "language_info": {
   "codemirror_mode": {
    "name": "ipython",
    "version": 3
   },
   "file_extension": ".py",
   "mimetype": "text/x-python",
   "name": "python",
   "nbconvert_exporter": "python",
   "pygments_lexer": "ipython3",
   "version": "3.10.12"
  }
 },
 "nbformat": 4,
 "nbformat_minor": 4
}
